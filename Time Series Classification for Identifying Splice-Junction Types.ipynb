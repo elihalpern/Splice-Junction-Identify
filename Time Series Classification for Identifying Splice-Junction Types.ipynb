{
 "cells": [
  {
   "cell_type": "markdown",
   "metadata": {},
   "source": [
    "### An implementation of Time Series Classification on primate splice-junction data. The goal of this project is to classify intron-exon and exon-intron boundaries.\n",
    "# Data Cleanup\n",
    "First, we import all libraries used, and the data:"
   ]
  },
  {
   "cell_type": "code",
   "execution_count": 1,
   "metadata": {},
   "outputs": [
    {
     "data": {
      "text/html": [
       "<div>\n",
       "<style scoped>\n",
       "    .dataframe tbody tr th:only-of-type {\n",
       "        vertical-align: middle;\n",
       "    }\n",
       "\n",
       "    .dataframe tbody tr th {\n",
       "        vertical-align: top;\n",
       "    }\n",
       "\n",
       "    .dataframe thead th {\n",
       "        text-align: right;\n",
       "    }\n",
       "</style>\n",
       "<table border=\"1\" class=\"dataframe\">\n",
       "  <thead>\n",
       "    <tr style=\"text-align: right;\">\n",
       "      <th></th>\n",
       "      <th>Class</th>\n",
       "      <th>Name</th>\n",
       "      <th>Sequence</th>\n",
       "    </tr>\n",
       "  </thead>\n",
       "  <tbody>\n",
       "    <tr>\n",
       "      <th>0</th>\n",
       "      <td>EI</td>\n",
       "      <td>ATRINS-DONOR-521</td>\n",
       "      <td>CCAGCTGCATCACAGGAGGCCAGCGAGCAGG...</td>\n",
       "    </tr>\n",
       "    <tr>\n",
       "      <th>1</th>\n",
       "      <td>EI</td>\n",
       "      <td>ATRINS-DONOR-905</td>\n",
       "      <td>AGACCCGCCGGGAGGCGGAGGACCTGCAGGG...</td>\n",
       "    </tr>\n",
       "    <tr>\n",
       "      <th>2</th>\n",
       "      <td>EI</td>\n",
       "      <td>BABAPOE-DONOR-30</td>\n",
       "      <td>GAGGTGAAGGACGTCCTTCCCCAGGAGCCGG...</td>\n",
       "    </tr>\n",
       "    <tr>\n",
       "      <th>3</th>\n",
       "      <td>EI</td>\n",
       "      <td>BABAPOE-DONOR-867</td>\n",
       "      <td>GGGCTGCGTTGCTGGTCACATTCCTGGCAGGT...</td>\n",
       "    </tr>\n",
       "    <tr>\n",
       "      <th>4</th>\n",
       "      <td>EI</td>\n",
       "      <td>BABAPOE-DONOR-2817</td>\n",
       "      <td>GCTCAGCCCCCAGGTCACCCAGGAACTGACGTG...</td>\n",
       "    </tr>\n",
       "  </tbody>\n",
       "</table>\n",
       "</div>"
      ],
      "text/plain": [
       "  Class                    Name  \\\n",
       "0    EI        ATRINS-DONOR-521   \n",
       "1    EI        ATRINS-DONOR-905   \n",
       "2    EI        BABAPOE-DONOR-30   \n",
       "3    EI       BABAPOE-DONOR-867   \n",
       "4    EI      BABAPOE-DONOR-2817   \n",
       "\n",
       "                                            Sequence  \n",
       "0                 CCAGCTGCATCACAGGAGGCCAGCGAGCAGG...  \n",
       "1                 AGACCCGCCGGGAGGCGGAGGACCTGCAGGG...  \n",
       "2                 GAGGTGAAGGACGTCCTTCCCCAGGAGCCGG...  \n",
       "3                GGGCTGCGTTGCTGGTCACATTCCTGGCAGGT...  \n",
       "4               GCTCAGCCCCCAGGTCACCCAGGAACTGACGTG...  "
      ]
     },
     "execution_count": 1,
     "metadata": {},
     "output_type": "execute_result"
    }
   ],
   "source": [
    "from IPython.core.interactiveshell import InteractiveShell\n",
    "InteractiveShell.ast_node_interactivity = \"all\"\n",
    "import numpy as np\n",
    "import pandas as pd\n",
    "import matplotlib as plt\n",
    "from dtw import dtw\n",
    "from random import choice\n",
    "import os.path\n",
    "from sklearn.model_selection import StratifiedKFold\n",
    "from sklearn.metrics import accuracy_score\n",
    "from sklearn.metrics import confusion_matrix\n",
    "from sklearn.metrics import f1_score\n",
    "from sklearn.metrics import precision_score\n",
    "from sklearn.metrics import recall_score\n",
    "from scipy.stats import mode\n",
    "\n",
    "df = pd.read_csv('splice.data', names = ['Class', 'Name', 'Sequence'])\n",
    "df.head()"
   ]
  },
  {
   "cell_type": "markdown",
   "metadata": {},
   "source": [
    "Since the original data may have inconsistent spacing, we will strip any leading or tailing whitespace from each entry."
   ]
  },
  {
   "cell_type": "code",
   "execution_count": 2,
   "metadata": {},
   "outputs": [],
   "source": [
    "df['Class'] = df['Class'].str.strip()\n",
    "df['Name'] = df['Name'].str.strip()\n",
    "df['Sequence'] = df['Sequence'].str.strip()"
   ]
  },
  {
   "cell_type": "markdown",
   "metadata": {},
   "source": [
    "For the purposes of our initial model, we will remove any instances in the \"N\" or Neither class. This will leave only the EI and IE class for analysis."
   ]
  },
  {
   "cell_type": "code",
   "execution_count": 3,
   "metadata": {},
   "outputs": [
    {
     "data": {
      "text/plain": [
       "IE    768\n",
       "EI    767\n",
       "Name: Class, dtype: int64"
      ]
     },
     "execution_count": 3,
     "metadata": {},
     "output_type": "execute_result"
    }
   ],
   "source": [
    "df = df[df.Class != 'N']\n",
    "df['Class'].value_counts()"
   ]
  },
  {
   "cell_type": "markdown",
   "metadata": {},
   "source": [
    "There is one entry that has incomplete data; it can be removed."
   ]
  },
  {
   "cell_type": "code",
   "execution_count": 4,
   "metadata": {},
   "outputs": [
    {
     "data": {
      "text/plain": [
       "'CACACAGGGCACCCCCTCANNNNNNNNNNNNNNNNNNNNNNNNNNNNNNNNNNNNNNNNN'"
      ]
     },
     "execution_count": 4,
     "metadata": {},
     "output_type": "execute_result"
    }
   ],
   "source": [
    "df[df.Name == 'HUMALPI1-DONOR-42'].iloc[0, 2]\n",
    "df = df[df.Name != 'HUMALPI1-DONOR-42']"
   ]
  },
  {
   "cell_type": "markdown",
   "metadata": {},
   "source": [
    "The \"Name\" feature is unnecessary for the procedure, and can be dropped."
   ]
  },
  {
   "cell_type": "code",
   "execution_count": 5,
   "metadata": {},
   "outputs": [
    {
     "data": {
      "text/html": [
       "<div>\n",
       "<style scoped>\n",
       "    .dataframe tbody tr th:only-of-type {\n",
       "        vertical-align: middle;\n",
       "    }\n",
       "\n",
       "    .dataframe tbody tr th {\n",
       "        vertical-align: top;\n",
       "    }\n",
       "\n",
       "    .dataframe thead th {\n",
       "        text-align: right;\n",
       "    }\n",
       "</style>\n",
       "<table border=\"1\" class=\"dataframe\">\n",
       "  <thead>\n",
       "    <tr style=\"text-align: right;\">\n",
       "      <th></th>\n",
       "      <th>Class</th>\n",
       "      <th>Sequence</th>\n",
       "    </tr>\n",
       "  </thead>\n",
       "  <tbody>\n",
       "    <tr>\n",
       "      <th>0</th>\n",
       "      <td>EI</td>\n",
       "      <td>CCAGCTGCATCACAGGAGGCCAGCGAGCAGGTCTGTTCCAAGGGCC...</td>\n",
       "    </tr>\n",
       "    <tr>\n",
       "      <th>1</th>\n",
       "      <td>EI</td>\n",
       "      <td>AGACCCGCCGGGAGGCGGAGGACCTGCAGGGTGAGCCCCACCGCCC...</td>\n",
       "    </tr>\n",
       "    <tr>\n",
       "      <th>2</th>\n",
       "      <td>EI</td>\n",
       "      <td>GAGGTGAAGGACGTCCTTCCCCAGGAGCCGGTGAGAAGCGCAGTCG...</td>\n",
       "    </tr>\n",
       "    <tr>\n",
       "      <th>3</th>\n",
       "      <td>EI</td>\n",
       "      <td>GGGCTGCGTTGCTGGTCACATTCCTGGCAGGTATGGGGCGGGGCTT...</td>\n",
       "    </tr>\n",
       "    <tr>\n",
       "      <th>4</th>\n",
       "      <td>EI</td>\n",
       "      <td>GCTCAGCCCCCAGGTCACCCAGGAACTGACGTGAGTGTCCCCATCC...</td>\n",
       "    </tr>\n",
       "  </tbody>\n",
       "</table>\n",
       "</div>"
      ],
      "text/plain": [
       "  Class                                           Sequence\n",
       "0    EI  CCAGCTGCATCACAGGAGGCCAGCGAGCAGGTCTGTTCCAAGGGCC...\n",
       "1    EI  AGACCCGCCGGGAGGCGGAGGACCTGCAGGGTGAGCCCCACCGCCC...\n",
       "2    EI  GAGGTGAAGGACGTCCTTCCCCAGGAGCCGGTGAGAAGCGCAGTCG...\n",
       "3    EI  GGGCTGCGTTGCTGGTCACATTCCTGGCAGGTATGGGGCGGGGCTT...\n",
       "4    EI  GCTCAGCCCCCAGGTCACCCAGGAACTGACGTGAGTGTCCCCATCC..."
      ]
     },
     "execution_count": 5,
     "metadata": {},
     "output_type": "execute_result"
    }
   ],
   "source": [
    "df = df.drop('Name', axis=1)\n",
    "df.head()"
   ]
  },
  {
   "cell_type": "markdown",
   "metadata": {},
   "source": [
    "Mapping EI and IE to 0 and 1 respectively, makes it easier for our classifier later on."
   ]
  },
  {
   "cell_type": "code",
   "execution_count": 6,
   "metadata": {},
   "outputs": [
    {
     "data": {
      "text/html": [
       "<div>\n",
       "<style scoped>\n",
       "    .dataframe tbody tr th:only-of-type {\n",
       "        vertical-align: middle;\n",
       "    }\n",
       "\n",
       "    .dataframe tbody tr th {\n",
       "        vertical-align: top;\n",
       "    }\n",
       "\n",
       "    .dataframe thead th {\n",
       "        text-align: right;\n",
       "    }\n",
       "</style>\n",
       "<table border=\"1\" class=\"dataframe\">\n",
       "  <thead>\n",
       "    <tr style=\"text-align: right;\">\n",
       "      <th></th>\n",
       "      <th>Class</th>\n",
       "      <th>Sequence</th>\n",
       "    </tr>\n",
       "  </thead>\n",
       "  <tbody>\n",
       "    <tr>\n",
       "      <th>0</th>\n",
       "      <td>0</td>\n",
       "      <td>CCAGCTGCATCACAGGAGGCCAGCGAGCAGGTCTGTTCCAAGGGCC...</td>\n",
       "    </tr>\n",
       "    <tr>\n",
       "      <th>1</th>\n",
       "      <td>0</td>\n",
       "      <td>AGACCCGCCGGGAGGCGGAGGACCTGCAGGGTGAGCCCCACCGCCC...</td>\n",
       "    </tr>\n",
       "    <tr>\n",
       "      <th>2</th>\n",
       "      <td>0</td>\n",
       "      <td>GAGGTGAAGGACGTCCTTCCCCAGGAGCCGGTGAGAAGCGCAGTCG...</td>\n",
       "    </tr>\n",
       "    <tr>\n",
       "      <th>3</th>\n",
       "      <td>0</td>\n",
       "      <td>GGGCTGCGTTGCTGGTCACATTCCTGGCAGGTATGGGGCGGGGCTT...</td>\n",
       "    </tr>\n",
       "    <tr>\n",
       "      <th>4</th>\n",
       "      <td>0</td>\n",
       "      <td>GCTCAGCCCCCAGGTCACCCAGGAACTGACGTGAGTGTCCCCATCC...</td>\n",
       "    </tr>\n",
       "  </tbody>\n",
       "</table>\n",
       "</div>"
      ],
      "text/plain": [
       "   Class                                           Sequence\n",
       "0      0  CCAGCTGCATCACAGGAGGCCAGCGAGCAGGTCTGTTCCAAGGGCC...\n",
       "1      0  AGACCCGCCGGGAGGCGGAGGACCTGCAGGGTGAGCCCCACCGCCC...\n",
       "2      0  GAGGTGAAGGACGTCCTTCCCCAGGAGCCGGTGAGAAGCGCAGTCG...\n",
       "3      0  GGGCTGCGTTGCTGGTCACATTCCTGGCAGGTATGGGGCGGGGCTT...\n",
       "4      0  GCTCAGCCCCCAGGTCACCCAGGAACTGACGTGAGTGTCCCCATCC..."
      ]
     },
     "execution_count": 6,
     "metadata": {},
     "output_type": "execute_result"
    },
    {
     "data": {
      "text/html": [
       "<div>\n",
       "<style scoped>\n",
       "    .dataframe tbody tr th:only-of-type {\n",
       "        vertical-align: middle;\n",
       "    }\n",
       "\n",
       "    .dataframe tbody tr th {\n",
       "        vertical-align: top;\n",
       "    }\n",
       "\n",
       "    .dataframe thead th {\n",
       "        text-align: right;\n",
       "    }\n",
       "</style>\n",
       "<table border=\"1\" class=\"dataframe\">\n",
       "  <thead>\n",
       "    <tr style=\"text-align: right;\">\n",
       "      <th></th>\n",
       "      <th>Class</th>\n",
       "      <th>Sequence</th>\n",
       "    </tr>\n",
       "  </thead>\n",
       "  <tbody>\n",
       "    <tr>\n",
       "      <th>1530</th>\n",
       "      <td>1</td>\n",
       "      <td>AGCCTGGGCTGACCCCACGTCTGGCCACAGGCCCGCGTGCTGCCCC...</td>\n",
       "    </tr>\n",
       "    <tr>\n",
       "      <th>1531</th>\n",
       "      <td>1</td>\n",
       "      <td>CTGTCCTGTGGGTTCCTCTCACCCCCTCAGGCTGCTGGTCGTCTAC...</td>\n",
       "    </tr>\n",
       "    <tr>\n",
       "      <th>1532</th>\n",
       "      <td>1</td>\n",
       "      <td>ATGTTTAAACCTCGCGTTTCCTCCCCGCAGCTCTTGGGCAATGTGC...</td>\n",
       "    </tr>\n",
       "    <tr>\n",
       "      <th>1533</th>\n",
       "      <td>1</td>\n",
       "      <td>CTGTCCTGTGGGTTCCTCTCACCCTCTCAGGTTGCTGGTCGTCTAC...</td>\n",
       "    </tr>\n",
       "    <tr>\n",
       "      <th>1534</th>\n",
       "      <td>1</td>\n",
       "      <td>CATATGTATCTTTTTACCTTTTCCCAACAGCTCCTGGGCAACGTGC...</td>\n",
       "    </tr>\n",
       "  </tbody>\n",
       "</table>\n",
       "</div>"
      ],
      "text/plain": [
       "      Class                                           Sequence\n",
       "1530      1  AGCCTGGGCTGACCCCACGTCTGGCCACAGGCCCGCGTGCTGCCCC...\n",
       "1531      1  CTGTCCTGTGGGTTCCTCTCACCCCCTCAGGCTGCTGGTCGTCTAC...\n",
       "1532      1  ATGTTTAAACCTCGCGTTTCCTCCCCGCAGCTCTTGGGCAATGTGC...\n",
       "1533      1  CTGTCCTGTGGGTTCCTCTCACCCTCTCAGGTTGCTGGTCGTCTAC...\n",
       "1534      1  CATATGTATCTTTTTACCTTTTCCCAACAGCTCCTGGGCAACGTGC..."
      ]
     },
     "execution_count": 6,
     "metadata": {},
     "output_type": "execute_result"
    }
   ],
   "source": [
    "df['Class'] = df['Class'].map({'EI': 0, 'IE': 1})\n",
    "df.head()\n",
    "df.tail()"
   ]
  },
  {
   "cell_type": "markdown",
   "metadata": {},
   "source": [
    "It is necessary to encode our nucleotides into numbers so their pattern and ordering can be analyzed. The bases will be encoded into 1, 2, 3, and 4 in alphabetical order. The ambiguous nucleotides, N, D, S, and R will be pseudorandomly chosen, based on the possible nucleotides it could be."
   ]
  },
  {
   "cell_type": "code",
   "execution_count": 7,
   "metadata": {},
   "outputs": [
    {
     "data": {
      "text/html": [
       "<div>\n",
       "<style scoped>\n",
       "    .dataframe tbody tr th:only-of-type {\n",
       "        vertical-align: middle;\n",
       "    }\n",
       "\n",
       "    .dataframe tbody tr th {\n",
       "        vertical-align: top;\n",
       "    }\n",
       "\n",
       "    .dataframe thead th {\n",
       "        text-align: right;\n",
       "    }\n",
       "</style>\n",
       "<table border=\"1\" class=\"dataframe\">\n",
       "  <thead>\n",
       "    <tr style=\"text-align: right;\">\n",
       "      <th></th>\n",
       "      <th>Class</th>\n",
       "      <th>Sequence</th>\n",
       "    </tr>\n",
       "  </thead>\n",
       "  <tbody>\n",
       "    <tr>\n",
       "      <th>0</th>\n",
       "      <td>0</td>\n",
       "      <td>2213243214212133133221323132133424344221133322...</td>\n",
       "    </tr>\n",
       "    <tr>\n",
       "      <th>1</th>\n",
       "      <td>0</td>\n",
       "      <td>1312223223331332331331224321333431322221223222...</td>\n",
       "    </tr>\n",
       "    <tr>\n",
       "      <th>2</th>\n",
       "      <td>0</td>\n",
       "      <td>3133431133123422442222133132233431311323213423...</td>\n",
       "    </tr>\n",
       "    <tr>\n",
       "      <th>3</th>\n",
       "      <td>0</td>\n",
       "      <td>3332432344324334212144224332133414333323333244...</td>\n",
       "    </tr>\n",
       "    <tr>\n",
       "      <th>4</th>\n",
       "      <td>0</td>\n",
       "      <td>3242132222213342122213311243123431343422221422...</td>\n",
       "    </tr>\n",
       "  </tbody>\n",
       "</table>\n",
       "</div>"
      ],
      "text/plain": [
       "   Class                                           Sequence\n",
       "0      0  2213243214212133133221323132133424344221133322...\n",
       "1      0  1312223223331332331331224321333431322221223222...\n",
       "2      0  3133431133123422442222133132233431311323213423...\n",
       "3      0  3332432344324334212144224332133414333323333244...\n",
       "4      0  3242132222213342122213311243123431343422221422..."
      ]
     },
     "execution_count": 7,
     "metadata": {},
     "output_type": "execute_result"
    }
   ],
   "source": [
    "def translateSequence(sequence):\n",
    "    baseDict = {'A':'1', 'C':'2', 'G':'3', 'T':'4', 'N':choice(['1', '2', '3', '4']),\n",
    "               'D':choice(['1', '3', '4']), 'S':choice(['2', '3']), 'R':choice(['1', '3'])}\n",
    "    newSequence = ''\n",
    "    for base in sequence:\n",
    "        newSequence += baseDict[base] \n",
    "    return newSequence\n",
    "\n",
    "df['Sequence'] = [translateSequence(sequence) for sequence in df['Sequence']]\n",
    "df.head()"
   ]
  },
  {
   "cell_type": "markdown",
   "metadata": {},
   "source": [
    "Finally, we will separate each columns into their own individual Numpy arrays. Note that each sequence of numbers is being split, forming a matrix. Each row in this matrix will contain a sequence that has been encoded into numbers."
   ]
  },
  {
   "cell_type": "code",
   "execution_count": 8,
   "metadata": {},
   "outputs": [
    {
     "data": {
      "text/plain": [
       "array([0, 0, 0, ..., 1, 1, 1])"
      ]
     },
     "execution_count": 8,
     "metadata": {},
     "output_type": "execute_result"
    },
    {
     "data": {
      "text/plain": [
       "(1534,)"
      ]
     },
     "execution_count": 8,
     "metadata": {},
     "output_type": "execute_result"
    },
    {
     "data": {
      "text/plain": [
       "array([[2, 2, 1, ..., 2, 4, 3],\n",
       "       [1, 3, 1, ..., 2, 3, 2],\n",
       "       [3, 1, 3, ..., 1, 4, 3],\n",
       "       ...,\n",
       "       [1, 4, 3, ..., 2, 4, 3],\n",
       "       [2, 4, 3, ..., 3, 1, 3],\n",
       "       [2, 1, 4, ..., 2, 4, 3]])"
      ]
     },
     "execution_count": 8,
     "metadata": {},
     "output_type": "execute_result"
    },
    {
     "data": {
      "text/plain": [
       "(1534, 60)"
      ]
     },
     "execution_count": 8,
     "metadata": {},
     "output_type": "execute_result"
    }
   ],
   "source": [
    "y = np.asarray(df['Class'])\n",
    "y\n",
    "np.shape(y)\n",
    "X = np.asarray([list(map(int, sequence)) for sequence in df['Sequence']])\n",
    "X\n",
    "np.shape(X)"
   ]
  },
  {
   "cell_type": "markdown",
   "metadata": {},
   "source": [
    "# Dynamic Time Warping"
   ]
  },
  {
   "cell_type": "markdown",
   "metadata": {},
   "source": [
    "Now we're ready for the dynamic time warping procedure. We iterate through all sequences, taking the euclidean distance and calculating the dissimilarity score:"
   ]
  },
  {
   "cell_type": "markdown",
   "metadata": {},
   "source": [
    "NOTE: This procedure took approximately 10 hours to run on my machine. Using my pre-generated dissimilarity matrix is preferable."
   ]
  },
  {
   "cell_type": "code",
   "execution_count": 9,
   "metadata": {},
   "outputs": [],
   "source": [
    "if os.path.exists(\"matrix.csv\"):\n",
    "    dissimMatrix = np.asarray(pd.read_csv(\"matrix.csv\", index_col=0))\n",
    "else:\n",
    "    dissimMatrix = []\n",
    "    for i, seq1 in enumerate(X):\n",
    "        dissimMatrix.append([])\n",
    "        for seq2 in X:\n",
    "            euclideanDist = lambda seq1, seq2: np.abs(seq1 - seq2)\n",
    "            warpScore = dtw(seq1, seq2, dist=euclideanDist)\n",
    "            dissimMatrix[i].append(warpScore[0])\n",
    "    pd.DataFrame(data=dissimMatrix).to_csv(\"matrix.csv\")"
   ]
  },
  {
   "cell_type": "markdown",
   "metadata": {},
   "source": [
    "# K Nearest Neighbors"
   ]
  },
  {
   "cell_type": "markdown",
   "metadata": {},
   "source": [
    "Finally, our model is ready to be validated/tested. First, we need to split the dataset, using Stratified K-Folds."
   ]
  },
  {
   "cell_type": "code",
   "execution_count": 10,
   "metadata": {},
   "outputs": [],
   "source": [
    "def createMatrix(values, train_index, dissimMatrix):\n",
    "    matrix = []\n",
    "    for c, i in enumerate(values):\n",
    "        matrix.append([])\n",
    "        for j in train_index:\n",
    "            matrix[c].append(dissimMatrix[i][j])\n",
    "    return matrix\n",
    "\n",
    "def splitData(X, y, dissimMatrix):\n",
    "    skf = StratifiedKFold(n_splits=5)\n",
    "    X_train = []\n",
    "    X_test = []\n",
    "    y_train = []\n",
    "    y_test = []\n",
    "    for train_index, test_index in skf.split(X, y):\n",
    "        X_train.append(createMatrix(train_index, train_index, dissimMatrix))\n",
    "        X_test.append(createMatrix(test_index, train_index, dissimMatrix))\n",
    "        y_train.append(y[train_index])\n",
    "        y_test.append(y[test_index])\n",
    "    return X_train, X_test, y_train, y_test\n",
    "\n",
    "X_train, X_test, y_train, y_test = splitData(X, y, dissimMatrix)"
   ]
  },
  {
   "cell_type": "markdown",
   "metadata": {},
   "source": [
    "Now, we make the predictions:"
   ]
  },
  {
   "cell_type": "code",
   "execution_count": 11,
   "metadata": {},
   "outputs": [],
   "source": [
    "def predictClass(X_test, y_train, y_test, k):\n",
    "    y_pred = []\n",
    "    acc = []\n",
    "    conf = []\n",
    "    prec = []\n",
    "    recall = []\n",
    "    f1 = []\n",
    "    for i, fold in enumerate(X_test):\n",
    "        y_pred.append([])\n",
    "        for seq in fold:\n",
    "            closest = np.argsort(seq)[:k] # Returns indices of sorting from smallest to largest number\n",
    "            y_pred[i].append(mode([y_train[i][j] for j in closest])[0][0])\n",
    "        y_pred[i] = np.asarray(y_pred[i])\n",
    "        acc.append(accuracy_score(y_test[i], y_pred[i]))\n",
    "        tn, fp, fn, tp = confusion_matrix(y_test[i], y_pred[i]).ravel()\n",
    "        conf.append([tn, fp, fn, tp])\n",
    "        prec.append(precision_score(y_test[i], y_pred[i]))\n",
    "        recall.append(recall_score(y_test[i], y_pred[i]))\n",
    "        f1.append(f1_score(y_test[i], y_pred[i]))\n",
    "    return acc, conf, prec, recall, f1\n",
    "results = np.asarray([predictClass(X_test, y_train, y_test, k) for k in range(1,4)])"
   ]
  },
  {
   "cell_type": "markdown",
   "metadata": {},
   "source": [
    "And output the results:"
   ]
  },
  {
   "cell_type": "code",
   "execution_count": 37,
   "metadata": {},
   "outputs": [
    {
     "data": {
      "text/html": [
       "<style  type=\"text/css\" >\n",
       "</style><table id=\"T_b246c44a_49f5_11e9_bc48_8fc924dd77ef\" ><caption>1-NN</caption><thead>    <tr>        <th class=\"blank level0\" ></th>        <th class=\"col_heading level0 col0\" >Accuracy</th>        <th class=\"col_heading level0 col1\" >F1</th>        <th class=\"col_heading level0 col2\" >Precision</th>        <th class=\"col_heading level0 col3\" >Recall</th>        <th class=\"col_heading level0 col4\" >fn</th>        <th class=\"col_heading level0 col5\" >fp</th>        <th class=\"col_heading level0 col6\" >tn</th>        <th class=\"col_heading level0 col7\" >tp</th>    </tr></thead><tbody>\n",
       "                <tr>\n",
       "                        <th id=\"T_b246c44a_49f5_11e9_bc48_8fc924dd77eflevel0_row0\" class=\"row_heading level0 row0\" >1</th>\n",
       "                        <td id=\"T_b246c44a_49f5_11e9_bc48_8fc924dd77efrow0_col0\" class=\"data row0 col0\" >0.827922</td>\n",
       "                        <td id=\"T_b246c44a_49f5_11e9_bc48_8fc924dd77efrow0_col1\" class=\"data row0 col1\" >0.833856</td>\n",
       "                        <td id=\"T_b246c44a_49f5_11e9_bc48_8fc924dd77efrow0_col2\" class=\"data row0 col2\" >0.806061</td>\n",
       "                        <td id=\"T_b246c44a_49f5_11e9_bc48_8fc924dd77efrow0_col3\" class=\"data row0 col3\" >0.863636</td>\n",
       "                        <td id=\"T_b246c44a_49f5_11e9_bc48_8fc924dd77efrow0_col4\" class=\"data row0 col4\" >21</td>\n",
       "                        <td id=\"T_b246c44a_49f5_11e9_bc48_8fc924dd77efrow0_col5\" class=\"data row0 col5\" >32</td>\n",
       "                        <td id=\"T_b246c44a_49f5_11e9_bc48_8fc924dd77efrow0_col6\" class=\"data row0 col6\" >122</td>\n",
       "                        <td id=\"T_b246c44a_49f5_11e9_bc48_8fc924dd77efrow0_col7\" class=\"data row0 col7\" >133</td>\n",
       "            </tr>\n",
       "            <tr>\n",
       "                        <th id=\"T_b246c44a_49f5_11e9_bc48_8fc924dd77eflevel0_row1\" class=\"row_heading level0 row1\" >2</th>\n",
       "                        <td id=\"T_b246c44a_49f5_11e9_bc48_8fc924dd77efrow1_col0\" class=\"data row1 col0\" >0.814332</td>\n",
       "                        <td id=\"T_b246c44a_49f5_11e9_bc48_8fc924dd77efrow1_col1\" class=\"data row1 col1\" >0.815534</td>\n",
       "                        <td id=\"T_b246c44a_49f5_11e9_bc48_8fc924dd77efrow1_col2\" class=\"data row1 col2\" >0.812903</td>\n",
       "                        <td id=\"T_b246c44a_49f5_11e9_bc48_8fc924dd77efrow1_col3\" class=\"data row1 col3\" >0.818182</td>\n",
       "                        <td id=\"T_b246c44a_49f5_11e9_bc48_8fc924dd77efrow1_col4\" class=\"data row1 col4\" >28</td>\n",
       "                        <td id=\"T_b246c44a_49f5_11e9_bc48_8fc924dd77efrow1_col5\" class=\"data row1 col5\" >29</td>\n",
       "                        <td id=\"T_b246c44a_49f5_11e9_bc48_8fc924dd77efrow1_col6\" class=\"data row1 col6\" >124</td>\n",
       "                        <td id=\"T_b246c44a_49f5_11e9_bc48_8fc924dd77efrow1_col7\" class=\"data row1 col7\" >126</td>\n",
       "            </tr>\n",
       "            <tr>\n",
       "                        <th id=\"T_b246c44a_49f5_11e9_bc48_8fc924dd77eflevel0_row2\" class=\"row_heading level0 row2\" >3</th>\n",
       "                        <td id=\"T_b246c44a_49f5_11e9_bc48_8fc924dd77efrow2_col0\" class=\"data row2 col0\" >0.833876</td>\n",
       "                        <td id=\"T_b246c44a_49f5_11e9_bc48_8fc924dd77efrow2_col1\" class=\"data row2 col1\" >0.833876</td>\n",
       "                        <td id=\"T_b246c44a_49f5_11e9_bc48_8fc924dd77efrow2_col2\" class=\"data row2 col2\" >0.836601</td>\n",
       "                        <td id=\"T_b246c44a_49f5_11e9_bc48_8fc924dd77efrow2_col3\" class=\"data row2 col3\" >0.831169</td>\n",
       "                        <td id=\"T_b246c44a_49f5_11e9_bc48_8fc924dd77efrow2_col4\" class=\"data row2 col4\" >26</td>\n",
       "                        <td id=\"T_b246c44a_49f5_11e9_bc48_8fc924dd77efrow2_col5\" class=\"data row2 col5\" >25</td>\n",
       "                        <td id=\"T_b246c44a_49f5_11e9_bc48_8fc924dd77efrow2_col6\" class=\"data row2 col6\" >128</td>\n",
       "                        <td id=\"T_b246c44a_49f5_11e9_bc48_8fc924dd77efrow2_col7\" class=\"data row2 col7\" >128</td>\n",
       "            </tr>\n",
       "            <tr>\n",
       "                        <th id=\"T_b246c44a_49f5_11e9_bc48_8fc924dd77eflevel0_row3\" class=\"row_heading level0 row3\" >4</th>\n",
       "                        <td id=\"T_b246c44a_49f5_11e9_bc48_8fc924dd77efrow3_col0\" class=\"data row3 col0\" >0.77451</td>\n",
       "                        <td id=\"T_b246c44a_49f5_11e9_bc48_8fc924dd77efrow3_col1\" class=\"data row3 col1\" >0.775244</td>\n",
       "                        <td id=\"T_b246c44a_49f5_11e9_bc48_8fc924dd77efrow3_col2\" class=\"data row3 col2\" >0.772727</td>\n",
       "                        <td id=\"T_b246c44a_49f5_11e9_bc48_8fc924dd77efrow3_col3\" class=\"data row3 col3\" >0.777778</td>\n",
       "                        <td id=\"T_b246c44a_49f5_11e9_bc48_8fc924dd77efrow3_col4\" class=\"data row3 col4\" >34</td>\n",
       "                        <td id=\"T_b246c44a_49f5_11e9_bc48_8fc924dd77efrow3_col5\" class=\"data row3 col5\" >35</td>\n",
       "                        <td id=\"T_b246c44a_49f5_11e9_bc48_8fc924dd77efrow3_col6\" class=\"data row3 col6\" >118</td>\n",
       "                        <td id=\"T_b246c44a_49f5_11e9_bc48_8fc924dd77efrow3_col7\" class=\"data row3 col7\" >119</td>\n",
       "            </tr>\n",
       "            <tr>\n",
       "                        <th id=\"T_b246c44a_49f5_11e9_bc48_8fc924dd77eflevel0_row4\" class=\"row_heading level0 row4\" >5</th>\n",
       "                        <td id=\"T_b246c44a_49f5_11e9_bc48_8fc924dd77efrow4_col0\" class=\"data row4 col0\" >0.833333</td>\n",
       "                        <td id=\"T_b246c44a_49f5_11e9_bc48_8fc924dd77efrow4_col1\" class=\"data row4 col1\" >0.838095</td>\n",
       "                        <td id=\"T_b246c44a_49f5_11e9_bc48_8fc924dd77efrow4_col2\" class=\"data row4 col2\" >0.814815</td>\n",
       "                        <td id=\"T_b246c44a_49f5_11e9_bc48_8fc924dd77efrow4_col3\" class=\"data row4 col3\" >0.862745</td>\n",
       "                        <td id=\"T_b246c44a_49f5_11e9_bc48_8fc924dd77efrow4_col4\" class=\"data row4 col4\" >21</td>\n",
       "                        <td id=\"T_b246c44a_49f5_11e9_bc48_8fc924dd77efrow4_col5\" class=\"data row4 col5\" >30</td>\n",
       "                        <td id=\"T_b246c44a_49f5_11e9_bc48_8fc924dd77efrow4_col6\" class=\"data row4 col6\" >123</td>\n",
       "                        <td id=\"T_b246c44a_49f5_11e9_bc48_8fc924dd77efrow4_col7\" class=\"data row4 col7\" >132</td>\n",
       "            </tr>\n",
       "            <tr>\n",
       "                        <th id=\"T_b246c44a_49f5_11e9_bc48_8fc924dd77eflevel0_row5\" class=\"row_heading level0 row5\" >Average</th>\n",
       "                        <td id=\"T_b246c44a_49f5_11e9_bc48_8fc924dd77efrow5_col0\" class=\"data row5 col0\" >0.816795</td>\n",
       "                        <td id=\"T_b246c44a_49f5_11e9_bc48_8fc924dd77efrow5_col1\" class=\"data row5 col1\" >0.819321</td>\n",
       "                        <td id=\"T_b246c44a_49f5_11e9_bc48_8fc924dd77efrow5_col2\" class=\"data row5 col2\" >0.808621</td>\n",
       "                        <td id=\"T_b246c44a_49f5_11e9_bc48_8fc924dd77efrow5_col3\" class=\"data row5 col3\" >0.830702</td>\n",
       "                        <td id=\"T_b246c44a_49f5_11e9_bc48_8fc924dd77efrow5_col4\" class=\"data row5 col4\" >nan</td>\n",
       "                        <td id=\"T_b246c44a_49f5_11e9_bc48_8fc924dd77efrow5_col5\" class=\"data row5 col5\" >nan</td>\n",
       "                        <td id=\"T_b246c44a_49f5_11e9_bc48_8fc924dd77efrow5_col6\" class=\"data row5 col6\" >nan</td>\n",
       "                        <td id=\"T_b246c44a_49f5_11e9_bc48_8fc924dd77efrow5_col7\" class=\"data row5 col7\" >nan</td>\n",
       "            </tr>\n",
       "    </tbody></table>"
      ],
      "text/plain": [
       "<pandas.io.formats.style.Styler at 0x7f9cab8d5f28>"
      ]
     },
     "execution_count": 37,
     "metadata": {},
     "output_type": "execute_result"
    },
    {
     "data": {
      "text/html": [
       "<style  type=\"text/css\" >\n",
       "</style><table id=\"T_b249a30e_49f5_11e9_bc48_8fc924dd77ef\" ><caption>2-NN</caption><thead>    <tr>        <th class=\"blank level0\" ></th>        <th class=\"col_heading level0 col0\" >Accuracy</th>        <th class=\"col_heading level0 col1\" >F1</th>        <th class=\"col_heading level0 col2\" >Precision</th>        <th class=\"col_heading level0 col3\" >Recall</th>        <th class=\"col_heading level0 col4\" >fn</th>        <th class=\"col_heading level0 col5\" >fp</th>        <th class=\"col_heading level0 col6\" >tn</th>        <th class=\"col_heading level0 col7\" >tp</th>    </tr></thead><tbody>\n",
       "                <tr>\n",
       "                        <th id=\"T_b249a30e_49f5_11e9_bc48_8fc924dd77eflevel0_row0\" class=\"row_heading level0 row0\" >1</th>\n",
       "                        <td id=\"T_b249a30e_49f5_11e9_bc48_8fc924dd77efrow0_col0\" class=\"data row0 col0\" >0.818182</td>\n",
       "                        <td id=\"T_b249a30e_49f5_11e9_bc48_8fc924dd77efrow0_col1\" class=\"data row0 col1\" >0.797101</td>\n",
       "                        <td id=\"T_b249a30e_49f5_11e9_bc48_8fc924dd77efrow0_col2\" class=\"data row0 col2\" >0.901639</td>\n",
       "                        <td id=\"T_b249a30e_49f5_11e9_bc48_8fc924dd77efrow0_col3\" class=\"data row0 col3\" >0.714286</td>\n",
       "                        <td id=\"T_b249a30e_49f5_11e9_bc48_8fc924dd77efrow0_col4\" class=\"data row0 col4\" >44</td>\n",
       "                        <td id=\"T_b249a30e_49f5_11e9_bc48_8fc924dd77efrow0_col5\" class=\"data row0 col5\" >12</td>\n",
       "                        <td id=\"T_b249a30e_49f5_11e9_bc48_8fc924dd77efrow0_col6\" class=\"data row0 col6\" >142</td>\n",
       "                        <td id=\"T_b249a30e_49f5_11e9_bc48_8fc924dd77efrow0_col7\" class=\"data row0 col7\" >110</td>\n",
       "            </tr>\n",
       "            <tr>\n",
       "                        <th id=\"T_b249a30e_49f5_11e9_bc48_8fc924dd77eflevel0_row1\" class=\"row_heading level0 row1\" >2</th>\n",
       "                        <td id=\"T_b249a30e_49f5_11e9_bc48_8fc924dd77efrow1_col0\" class=\"data row1 col0\" >0.791531</td>\n",
       "                        <td id=\"T_b249a30e_49f5_11e9_bc48_8fc924dd77efrow1_col1\" class=\"data row1 col1\" >0.77305</td>\n",
       "                        <td id=\"T_b249a30e_49f5_11e9_bc48_8fc924dd77efrow1_col2\" class=\"data row1 col2\" >0.851562</td>\n",
       "                        <td id=\"T_b249a30e_49f5_11e9_bc48_8fc924dd77efrow1_col3\" class=\"data row1 col3\" >0.707792</td>\n",
       "                        <td id=\"T_b249a30e_49f5_11e9_bc48_8fc924dd77efrow1_col4\" class=\"data row1 col4\" >45</td>\n",
       "                        <td id=\"T_b249a30e_49f5_11e9_bc48_8fc924dd77efrow1_col5\" class=\"data row1 col5\" >19</td>\n",
       "                        <td id=\"T_b249a30e_49f5_11e9_bc48_8fc924dd77efrow1_col6\" class=\"data row1 col6\" >134</td>\n",
       "                        <td id=\"T_b249a30e_49f5_11e9_bc48_8fc924dd77efrow1_col7\" class=\"data row1 col7\" >109</td>\n",
       "            </tr>\n",
       "            <tr>\n",
       "                        <th id=\"T_b249a30e_49f5_11e9_bc48_8fc924dd77eflevel0_row2\" class=\"row_heading level0 row2\" >3</th>\n",
       "                        <td id=\"T_b249a30e_49f5_11e9_bc48_8fc924dd77efrow2_col0\" class=\"data row2 col0\" >0.794788</td>\n",
       "                        <td id=\"T_b249a30e_49f5_11e9_bc48_8fc924dd77efrow2_col1\" class=\"data row2 col1\" >0.770909</td>\n",
       "                        <td id=\"T_b249a30e_49f5_11e9_bc48_8fc924dd77efrow2_col2\" class=\"data row2 col2\" >0.876033</td>\n",
       "                        <td id=\"T_b249a30e_49f5_11e9_bc48_8fc924dd77efrow2_col3\" class=\"data row2 col3\" >0.688312</td>\n",
       "                        <td id=\"T_b249a30e_49f5_11e9_bc48_8fc924dd77efrow2_col4\" class=\"data row2 col4\" >48</td>\n",
       "                        <td id=\"T_b249a30e_49f5_11e9_bc48_8fc924dd77efrow2_col5\" class=\"data row2 col5\" >15</td>\n",
       "                        <td id=\"T_b249a30e_49f5_11e9_bc48_8fc924dd77efrow2_col6\" class=\"data row2 col6\" >138</td>\n",
       "                        <td id=\"T_b249a30e_49f5_11e9_bc48_8fc924dd77efrow2_col7\" class=\"data row2 col7\" >106</td>\n",
       "            </tr>\n",
       "            <tr>\n",
       "                        <th id=\"T_b249a30e_49f5_11e9_bc48_8fc924dd77eflevel0_row3\" class=\"row_heading level0 row3\" >4</th>\n",
       "                        <td id=\"T_b249a30e_49f5_11e9_bc48_8fc924dd77efrow3_col0\" class=\"data row3 col0\" >0.77451</td>\n",
       "                        <td id=\"T_b249a30e_49f5_11e9_bc48_8fc924dd77efrow3_col1\" class=\"data row3 col1\" >0.729412</td>\n",
       "                        <td id=\"T_b249a30e_49f5_11e9_bc48_8fc924dd77efrow3_col2\" class=\"data row3 col2\" >0.911765</td>\n",
       "                        <td id=\"T_b249a30e_49f5_11e9_bc48_8fc924dd77efrow3_col3\" class=\"data row3 col3\" >0.607843</td>\n",
       "                        <td id=\"T_b249a30e_49f5_11e9_bc48_8fc924dd77efrow3_col4\" class=\"data row3 col4\" >60</td>\n",
       "                        <td id=\"T_b249a30e_49f5_11e9_bc48_8fc924dd77efrow3_col5\" class=\"data row3 col5\" >9</td>\n",
       "                        <td id=\"T_b249a30e_49f5_11e9_bc48_8fc924dd77efrow3_col6\" class=\"data row3 col6\" >144</td>\n",
       "                        <td id=\"T_b249a30e_49f5_11e9_bc48_8fc924dd77efrow3_col7\" class=\"data row3 col7\" >93</td>\n",
       "            </tr>\n",
       "            <tr>\n",
       "                        <th id=\"T_b249a30e_49f5_11e9_bc48_8fc924dd77eflevel0_row4\" class=\"row_heading level0 row4\" >5</th>\n",
       "                        <td id=\"T_b249a30e_49f5_11e9_bc48_8fc924dd77efrow4_col0\" class=\"data row4 col0\" >0.852941</td>\n",
       "                        <td id=\"T_b249a30e_49f5_11e9_bc48_8fc924dd77efrow4_col1\" class=\"data row4 col1\" >0.844291</td>\n",
       "                        <td id=\"T_b249a30e_49f5_11e9_bc48_8fc924dd77efrow4_col2\" class=\"data row4 col2\" >0.897059</td>\n",
       "                        <td id=\"T_b249a30e_49f5_11e9_bc48_8fc924dd77efrow4_col3\" class=\"data row4 col3\" >0.797386</td>\n",
       "                        <td id=\"T_b249a30e_49f5_11e9_bc48_8fc924dd77efrow4_col4\" class=\"data row4 col4\" >31</td>\n",
       "                        <td id=\"T_b249a30e_49f5_11e9_bc48_8fc924dd77efrow4_col5\" class=\"data row4 col5\" >14</td>\n",
       "                        <td id=\"T_b249a30e_49f5_11e9_bc48_8fc924dd77efrow4_col6\" class=\"data row4 col6\" >139</td>\n",
       "                        <td id=\"T_b249a30e_49f5_11e9_bc48_8fc924dd77efrow4_col7\" class=\"data row4 col7\" >122</td>\n",
       "            </tr>\n",
       "            <tr>\n",
       "                        <th id=\"T_b249a30e_49f5_11e9_bc48_8fc924dd77eflevel0_row5\" class=\"row_heading level0 row5\" >Average</th>\n",
       "                        <td id=\"T_b249a30e_49f5_11e9_bc48_8fc924dd77efrow5_col0\" class=\"data row5 col0\" >0.80639</td>\n",
       "                        <td id=\"T_b249a30e_49f5_11e9_bc48_8fc924dd77efrow5_col1\" class=\"data row5 col1\" >0.782953</td>\n",
       "                        <td id=\"T_b249a30e_49f5_11e9_bc48_8fc924dd77efrow5_col2\" class=\"data row5 col2\" >0.887612</td>\n",
       "                        <td id=\"T_b249a30e_49f5_11e9_bc48_8fc924dd77efrow5_col3\" class=\"data row5 col3\" >0.703124</td>\n",
       "                        <td id=\"T_b249a30e_49f5_11e9_bc48_8fc924dd77efrow5_col4\" class=\"data row5 col4\" >nan</td>\n",
       "                        <td id=\"T_b249a30e_49f5_11e9_bc48_8fc924dd77efrow5_col5\" class=\"data row5 col5\" >nan</td>\n",
       "                        <td id=\"T_b249a30e_49f5_11e9_bc48_8fc924dd77efrow5_col6\" class=\"data row5 col6\" >nan</td>\n",
       "                        <td id=\"T_b249a30e_49f5_11e9_bc48_8fc924dd77efrow5_col7\" class=\"data row5 col7\" >nan</td>\n",
       "            </tr>\n",
       "    </tbody></table>"
      ],
      "text/plain": [
       "<pandas.io.formats.style.Styler at 0x7f9cab3d58d0>"
      ]
     },
     "execution_count": 37,
     "metadata": {},
     "output_type": "execute_result"
    },
    {
     "data": {
      "text/html": [
       "<style  type=\"text/css\" >\n",
       "</style><table id=\"T_b24bc7b0_49f5_11e9_bc48_8fc924dd77ef\" ><caption>3-NN</caption><thead>    <tr>        <th class=\"blank level0\" ></th>        <th class=\"col_heading level0 col0\" >Accuracy</th>        <th class=\"col_heading level0 col1\" >F1</th>        <th class=\"col_heading level0 col2\" >Precision</th>        <th class=\"col_heading level0 col3\" >Recall</th>        <th class=\"col_heading level0 col4\" >fn</th>        <th class=\"col_heading level0 col5\" >fp</th>        <th class=\"col_heading level0 col6\" >tn</th>        <th class=\"col_heading level0 col7\" >tp</th>    </tr></thead><tbody>\n",
       "                <tr>\n",
       "                        <th id=\"T_b24bc7b0_49f5_11e9_bc48_8fc924dd77eflevel0_row0\" class=\"row_heading level0 row0\" >1</th>\n",
       "                        <td id=\"T_b24bc7b0_49f5_11e9_bc48_8fc924dd77efrow0_col0\" class=\"data row0 col0\" >0.853896</td>\n",
       "                        <td id=\"T_b24bc7b0_49f5_11e9_bc48_8fc924dd77efrow0_col1\" class=\"data row0 col1\" >0.854369</td>\n",
       "                        <td id=\"T_b24bc7b0_49f5_11e9_bc48_8fc924dd77efrow0_col2\" class=\"data row0 col2\" >0.851613</td>\n",
       "                        <td id=\"T_b24bc7b0_49f5_11e9_bc48_8fc924dd77efrow0_col3\" class=\"data row0 col3\" >0.857143</td>\n",
       "                        <td id=\"T_b24bc7b0_49f5_11e9_bc48_8fc924dd77efrow0_col4\" class=\"data row0 col4\" >22</td>\n",
       "                        <td id=\"T_b24bc7b0_49f5_11e9_bc48_8fc924dd77efrow0_col5\" class=\"data row0 col5\" >23</td>\n",
       "                        <td id=\"T_b24bc7b0_49f5_11e9_bc48_8fc924dd77efrow0_col6\" class=\"data row0 col6\" >131</td>\n",
       "                        <td id=\"T_b24bc7b0_49f5_11e9_bc48_8fc924dd77efrow0_col7\" class=\"data row0 col7\" >132</td>\n",
       "            </tr>\n",
       "            <tr>\n",
       "                        <th id=\"T_b24bc7b0_49f5_11e9_bc48_8fc924dd77eflevel0_row1\" class=\"row_heading level0 row1\" >2</th>\n",
       "                        <td id=\"T_b24bc7b0_49f5_11e9_bc48_8fc924dd77efrow1_col0\" class=\"data row1 col0\" >0.830619</td>\n",
       "                        <td id=\"T_b24bc7b0_49f5_11e9_bc48_8fc924dd77efrow1_col1\" class=\"data row1 col1\" >0.835443</td>\n",
       "                        <td id=\"T_b24bc7b0_49f5_11e9_bc48_8fc924dd77efrow1_col2\" class=\"data row1 col2\" >0.814815</td>\n",
       "                        <td id=\"T_b24bc7b0_49f5_11e9_bc48_8fc924dd77efrow1_col3\" class=\"data row1 col3\" >0.857143</td>\n",
       "                        <td id=\"T_b24bc7b0_49f5_11e9_bc48_8fc924dd77efrow1_col4\" class=\"data row1 col4\" >22</td>\n",
       "                        <td id=\"T_b24bc7b0_49f5_11e9_bc48_8fc924dd77efrow1_col5\" class=\"data row1 col5\" >30</td>\n",
       "                        <td id=\"T_b24bc7b0_49f5_11e9_bc48_8fc924dd77efrow1_col6\" class=\"data row1 col6\" >123</td>\n",
       "                        <td id=\"T_b24bc7b0_49f5_11e9_bc48_8fc924dd77efrow1_col7\" class=\"data row1 col7\" >132</td>\n",
       "            </tr>\n",
       "            <tr>\n",
       "                        <th id=\"T_b24bc7b0_49f5_11e9_bc48_8fc924dd77eflevel0_row2\" class=\"row_heading level0 row2\" >3</th>\n",
       "                        <td id=\"T_b24bc7b0_49f5_11e9_bc48_8fc924dd77efrow2_col0\" class=\"data row2 col0\" >0.856678</td>\n",
       "                        <td id=\"T_b24bc7b0_49f5_11e9_bc48_8fc924dd77efrow2_col1\" class=\"data row2 col1\" >0.861635</td>\n",
       "                        <td id=\"T_b24bc7b0_49f5_11e9_bc48_8fc924dd77efrow2_col2\" class=\"data row2 col2\" >0.835366</td>\n",
       "                        <td id=\"T_b24bc7b0_49f5_11e9_bc48_8fc924dd77efrow2_col3\" class=\"data row2 col3\" >0.88961</td>\n",
       "                        <td id=\"T_b24bc7b0_49f5_11e9_bc48_8fc924dd77efrow2_col4\" class=\"data row2 col4\" >17</td>\n",
       "                        <td id=\"T_b24bc7b0_49f5_11e9_bc48_8fc924dd77efrow2_col5\" class=\"data row2 col5\" >27</td>\n",
       "                        <td id=\"T_b24bc7b0_49f5_11e9_bc48_8fc924dd77efrow2_col6\" class=\"data row2 col6\" >126</td>\n",
       "                        <td id=\"T_b24bc7b0_49f5_11e9_bc48_8fc924dd77efrow2_col7\" class=\"data row2 col7\" >137</td>\n",
       "            </tr>\n",
       "            <tr>\n",
       "                        <th id=\"T_b24bc7b0_49f5_11e9_bc48_8fc924dd77eflevel0_row3\" class=\"row_heading level0 row3\" >4</th>\n",
       "                        <td id=\"T_b24bc7b0_49f5_11e9_bc48_8fc924dd77efrow3_col0\" class=\"data row3 col0\" >0.816993</td>\n",
       "                        <td id=\"T_b24bc7b0_49f5_11e9_bc48_8fc924dd77efrow3_col1\" class=\"data row3 col1\" >0.816993</td>\n",
       "                        <td id=\"T_b24bc7b0_49f5_11e9_bc48_8fc924dd77efrow3_col2\" class=\"data row3 col2\" >0.816993</td>\n",
       "                        <td id=\"T_b24bc7b0_49f5_11e9_bc48_8fc924dd77efrow3_col3\" class=\"data row3 col3\" >0.816993</td>\n",
       "                        <td id=\"T_b24bc7b0_49f5_11e9_bc48_8fc924dd77efrow3_col4\" class=\"data row3 col4\" >28</td>\n",
       "                        <td id=\"T_b24bc7b0_49f5_11e9_bc48_8fc924dd77efrow3_col5\" class=\"data row3 col5\" >28</td>\n",
       "                        <td id=\"T_b24bc7b0_49f5_11e9_bc48_8fc924dd77efrow3_col6\" class=\"data row3 col6\" >125</td>\n",
       "                        <td id=\"T_b24bc7b0_49f5_11e9_bc48_8fc924dd77efrow3_col7\" class=\"data row3 col7\" >125</td>\n",
       "            </tr>\n",
       "            <tr>\n",
       "                        <th id=\"T_b24bc7b0_49f5_11e9_bc48_8fc924dd77eflevel0_row4\" class=\"row_heading level0 row4\" >5</th>\n",
       "                        <td id=\"T_b24bc7b0_49f5_11e9_bc48_8fc924dd77efrow4_col0\" class=\"data row4 col0\" >0.856209</td>\n",
       "                        <td id=\"T_b24bc7b0_49f5_11e9_bc48_8fc924dd77efrow4_col1\" class=\"data row4 col1\" >0.861635</td>\n",
       "                        <td id=\"T_b24bc7b0_49f5_11e9_bc48_8fc924dd77efrow4_col2\" class=\"data row4 col2\" >0.830303</td>\n",
       "                        <td id=\"T_b24bc7b0_49f5_11e9_bc48_8fc924dd77efrow4_col3\" class=\"data row4 col3\" >0.895425</td>\n",
       "                        <td id=\"T_b24bc7b0_49f5_11e9_bc48_8fc924dd77efrow4_col4\" class=\"data row4 col4\" >16</td>\n",
       "                        <td id=\"T_b24bc7b0_49f5_11e9_bc48_8fc924dd77efrow4_col5\" class=\"data row4 col5\" >28</td>\n",
       "                        <td id=\"T_b24bc7b0_49f5_11e9_bc48_8fc924dd77efrow4_col6\" class=\"data row4 col6\" >125</td>\n",
       "                        <td id=\"T_b24bc7b0_49f5_11e9_bc48_8fc924dd77efrow4_col7\" class=\"data row4 col7\" >137</td>\n",
       "            </tr>\n",
       "            <tr>\n",
       "                        <th id=\"T_b24bc7b0_49f5_11e9_bc48_8fc924dd77eflevel0_row5\" class=\"row_heading level0 row5\" >Average</th>\n",
       "                        <td id=\"T_b24bc7b0_49f5_11e9_bc48_8fc924dd77efrow5_col0\" class=\"data row5 col0\" >0.842879</td>\n",
       "                        <td id=\"T_b24bc7b0_49f5_11e9_bc48_8fc924dd77efrow5_col1\" class=\"data row5 col1\" >0.846015</td>\n",
       "                        <td id=\"T_b24bc7b0_49f5_11e9_bc48_8fc924dd77efrow5_col2\" class=\"data row5 col2\" >0.829818</td>\n",
       "                        <td id=\"T_b24bc7b0_49f5_11e9_bc48_8fc924dd77efrow5_col3\" class=\"data row5 col3\" >0.863263</td>\n",
       "                        <td id=\"T_b24bc7b0_49f5_11e9_bc48_8fc924dd77efrow5_col4\" class=\"data row5 col4\" >nan</td>\n",
       "                        <td id=\"T_b24bc7b0_49f5_11e9_bc48_8fc924dd77efrow5_col5\" class=\"data row5 col5\" >nan</td>\n",
       "                        <td id=\"T_b24bc7b0_49f5_11e9_bc48_8fc924dd77efrow5_col6\" class=\"data row5 col6\" >nan</td>\n",
       "                        <td id=\"T_b24bc7b0_49f5_11e9_bc48_8fc924dd77efrow5_col7\" class=\"data row5 col7\" >nan</td>\n",
       "            </tr>\n",
       "    </tbody></table>"
      ],
      "text/plain": [
       "<pandas.io.formats.style.Styler at 0x7f9caac539e8>"
      ]
     },
     "execution_count": 37,
     "metadata": {},
     "output_type": "execute_result"
    }
   ],
   "source": [
    "for i, k in enumerate(results):\n",
    "    table = pd.DataFrame(k.T, index=range(1,len(X_test) + 1), columns=['Accuracy', 'Confusion Matrix', 'Precision', 'Recall', 'F1'])\n",
    "    table[['tn', 'fp', 'fn', 'tp']] = pd.DataFrame(table['Confusion Matrix'].values.tolist(), index=table.index)\n",
    "    table = table.drop('Confusion Matrix', axis=1)\n",
    "    means = pd.DataFrame(table.iloc[:,0:4].mean(), columns=['Average']).transpose()\n",
    "    table = table.append(means)\n",
    "    table = table.style.set_caption('{}-NN'.format(i+1))\n",
    "    table"
   ]
  },
  {
   "cell_type": "markdown",
   "metadata": {},
   "source": [
    "In this context:\n",
    "* A True Negative means that an EI was correctly identified as EI\n",
    "* A False Positive means that an EI was incorrectly identified as IE\n",
    "* A False Negative means that an IE was incorrectly identified as EI\n",
    "* A True Positive means that an IE was correctly identified as IE"
   ]
  }
 ],
 "metadata": {
  "kernelspec": {
   "display_name": "Python [conda env:splice_junction]",
   "language": "python",
   "name": "conda-env-splice_junction-py"
  },
  "language_info": {
   "codemirror_mode": {
    "name": "ipython",
    "version": 3
   },
   "file_extension": ".py",
   "mimetype": "text/x-python",
   "name": "python",
   "nbconvert_exporter": "python",
   "pygments_lexer": "ipython3",
   "version": "3.7.2"
  }
 },
 "nbformat": 4,
 "nbformat_minor": 2
}

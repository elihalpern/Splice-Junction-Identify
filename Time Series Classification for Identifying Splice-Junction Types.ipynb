{
 "cells": [
  {
   "cell_type": "markdown",
   "metadata": {},
   "source": [
    "### An implementation of Time Series Classification on primate splice-junction data. The goal of this project is to classify intron-exon and exon-intron boundaries.\n",
    "# Data Cleanup\n",
    "First, we import all libraries used, and the data:"
   ]
  },
  {
   "cell_type": "code",
   "execution_count": 1,
   "metadata": {},
   "outputs": [
    {
     "data": {
      "text/html": [
       "<div>\n",
       "<style scoped>\n",
       "    .dataframe tbody tr th:only-of-type {\n",
       "        vertical-align: middle;\n",
       "    }\n",
       "\n",
       "    .dataframe tbody tr th {\n",
       "        vertical-align: top;\n",
       "    }\n",
       "\n",
       "    .dataframe thead th {\n",
       "        text-align: right;\n",
       "    }\n",
       "</style>\n",
       "<table border=\"1\" class=\"dataframe\">\n",
       "  <thead>\n",
       "    <tr style=\"text-align: right;\">\n",
       "      <th></th>\n",
       "      <th>Class</th>\n",
       "      <th>Name</th>\n",
       "      <th>Sequence</th>\n",
       "    </tr>\n",
       "  </thead>\n",
       "  <tbody>\n",
       "    <tr>\n",
       "      <th>0</th>\n",
       "      <td>EI</td>\n",
       "      <td>ATRINS-DONOR-521</td>\n",
       "      <td>CCAGCTGCATCACAGGAGGCCAGCGAGCAGG...</td>\n",
       "    </tr>\n",
       "    <tr>\n",
       "      <th>1</th>\n",
       "      <td>EI</td>\n",
       "      <td>ATRINS-DONOR-905</td>\n",
       "      <td>AGACCCGCCGGGAGGCGGAGGACCTGCAGGG...</td>\n",
       "    </tr>\n",
       "    <tr>\n",
       "      <th>2</th>\n",
       "      <td>EI</td>\n",
       "      <td>BABAPOE-DONOR-30</td>\n",
       "      <td>GAGGTGAAGGACGTCCTTCCCCAGGAGCCGG...</td>\n",
       "    </tr>\n",
       "    <tr>\n",
       "      <th>3</th>\n",
       "      <td>EI</td>\n",
       "      <td>BABAPOE-DONOR-867</td>\n",
       "      <td>GGGCTGCGTTGCTGGTCACATTCCTGGCAGGT...</td>\n",
       "    </tr>\n",
       "    <tr>\n",
       "      <th>4</th>\n",
       "      <td>EI</td>\n",
       "      <td>BABAPOE-DONOR-2817</td>\n",
       "      <td>GCTCAGCCCCCAGGTCACCCAGGAACTGACGTG...</td>\n",
       "    </tr>\n",
       "  </tbody>\n",
       "</table>\n",
       "</div>"
      ],
      "text/plain": [
       "  Class                    Name  \\\n",
       "0    EI        ATRINS-DONOR-521   \n",
       "1    EI        ATRINS-DONOR-905   \n",
       "2    EI        BABAPOE-DONOR-30   \n",
       "3    EI       BABAPOE-DONOR-867   \n",
       "4    EI      BABAPOE-DONOR-2817   \n",
       "\n",
       "                                            Sequence  \n",
       "0                 CCAGCTGCATCACAGGAGGCCAGCGAGCAGG...  \n",
       "1                 AGACCCGCCGGGAGGCGGAGGACCTGCAGGG...  \n",
       "2                 GAGGTGAAGGACGTCCTTCCCCAGGAGCCGG...  \n",
       "3                GGGCTGCGTTGCTGGTCACATTCCTGGCAGGT...  \n",
       "4               GCTCAGCCCCCAGGTCACCCAGGAACTGACGTG...  "
      ]
     },
     "execution_count": 1,
     "metadata": {},
     "output_type": "execute_result"
    }
   ],
   "source": [
    "from IPython.core.interactiveshell import InteractiveShell\n",
    "InteractiveShell.ast_node_interactivity = \"all\"\n",
    "import numpy as np\n",
    "import pandas as pd\n",
    "import matplotlib.pyplot as plt\n",
    "from dtw import dtw\n",
    "from random import choice\n",
    "import os.path\n",
    "from sklearn.model_selection import StratifiedKFold\n",
    "from sklearn.decomposition import PCA\n",
    "from sklearn.neighbors import KNeighborsClassifier\n",
    "from sklearn.metrics import accuracy_score\n",
    "from sklearn.metrics import confusion_matrix\n",
    "from sklearn.metrics import f1_score\n",
    "from sklearn.metrics import precision_score\n",
    "from sklearn.metrics import recall_score\n",
    "from scipy.stats import mode\n",
    "\n",
    "df = pd.read_csv('splice.data', names = ['Class', 'Name', 'Sequence'])\n",
    "df.head()"
   ]
  },
  {
   "cell_type": "markdown",
   "metadata": {},
   "source": [
    "Since the original data may have inconsistent spacing, we will strip any leading or tailing whitespace from each entry."
   ]
  },
  {
   "cell_type": "code",
   "execution_count": 2,
   "metadata": {},
   "outputs": [],
   "source": [
    "df['Class'] = df['Class'].str.strip()\n",
    "df['Name'] = df['Name'].str.strip()\n",
    "df['Sequence'] = df['Sequence'].str.strip()"
   ]
  },
  {
   "cell_type": "markdown",
   "metadata": {},
   "source": [
    "For the purposes of our initial model, we will remove any instances in the \"N\" or Neither class. This will leave only the EI and IE class for analysis."
   ]
  },
  {
   "cell_type": "code",
   "execution_count": 3,
   "metadata": {},
   "outputs": [
    {
     "data": {
      "text/plain": [
       "IE    768\n",
       "EI    767\n",
       "Name: Class, dtype: int64"
      ]
     },
     "execution_count": 3,
     "metadata": {},
     "output_type": "execute_result"
    }
   ],
   "source": [
    "df = df[df.Class != 'N']\n",
    "df['Class'].value_counts()"
   ]
  },
  {
   "cell_type": "markdown",
   "metadata": {},
   "source": [
    "There is one entry that has incomplete data; it can be removed."
   ]
  },
  {
   "cell_type": "code",
   "execution_count": 4,
   "metadata": {},
   "outputs": [
    {
     "data": {
      "text/plain": [
       "'CACACAGGGCACCCCCTCANNNNNNNNNNNNNNNNNNNNNNNNNNNNNNNNNNNNNNNNN'"
      ]
     },
     "execution_count": 4,
     "metadata": {},
     "output_type": "execute_result"
    }
   ],
   "source": [
    "df[df.Name == 'HUMALPI1-DONOR-42'].iloc[0, 2]\n",
    "df = df[df.Name != 'HUMALPI1-DONOR-42']"
   ]
  },
  {
   "cell_type": "markdown",
   "metadata": {},
   "source": [
    "The \"Name\" feature is unnecessary for the procedure, and can be dropped."
   ]
  },
  {
   "cell_type": "code",
   "execution_count": 5,
   "metadata": {},
   "outputs": [
    {
     "data": {
      "text/html": [
       "<div>\n",
       "<style scoped>\n",
       "    .dataframe tbody tr th:only-of-type {\n",
       "        vertical-align: middle;\n",
       "    }\n",
       "\n",
       "    .dataframe tbody tr th {\n",
       "        vertical-align: top;\n",
       "    }\n",
       "\n",
       "    .dataframe thead th {\n",
       "        text-align: right;\n",
       "    }\n",
       "</style>\n",
       "<table border=\"1\" class=\"dataframe\">\n",
       "  <thead>\n",
       "    <tr style=\"text-align: right;\">\n",
       "      <th></th>\n",
       "      <th>Class</th>\n",
       "      <th>Sequence</th>\n",
       "    </tr>\n",
       "  </thead>\n",
       "  <tbody>\n",
       "    <tr>\n",
       "      <th>0</th>\n",
       "      <td>EI</td>\n",
       "      <td>CCAGCTGCATCACAGGAGGCCAGCGAGCAGGTCTGTTCCAAGGGCC...</td>\n",
       "    </tr>\n",
       "    <tr>\n",
       "      <th>1</th>\n",
       "      <td>EI</td>\n",
       "      <td>AGACCCGCCGGGAGGCGGAGGACCTGCAGGGTGAGCCCCACCGCCC...</td>\n",
       "    </tr>\n",
       "    <tr>\n",
       "      <th>2</th>\n",
       "      <td>EI</td>\n",
       "      <td>GAGGTGAAGGACGTCCTTCCCCAGGAGCCGGTGAGAAGCGCAGTCG...</td>\n",
       "    </tr>\n",
       "    <tr>\n",
       "      <th>3</th>\n",
       "      <td>EI</td>\n",
       "      <td>GGGCTGCGTTGCTGGTCACATTCCTGGCAGGTATGGGGCGGGGCTT...</td>\n",
       "    </tr>\n",
       "    <tr>\n",
       "      <th>4</th>\n",
       "      <td>EI</td>\n",
       "      <td>GCTCAGCCCCCAGGTCACCCAGGAACTGACGTGAGTGTCCCCATCC...</td>\n",
       "    </tr>\n",
       "  </tbody>\n",
       "</table>\n",
       "</div>"
      ],
      "text/plain": [
       "  Class                                           Sequence\n",
       "0    EI  CCAGCTGCATCACAGGAGGCCAGCGAGCAGGTCTGTTCCAAGGGCC...\n",
       "1    EI  AGACCCGCCGGGAGGCGGAGGACCTGCAGGGTGAGCCCCACCGCCC...\n",
       "2    EI  GAGGTGAAGGACGTCCTTCCCCAGGAGCCGGTGAGAAGCGCAGTCG...\n",
       "3    EI  GGGCTGCGTTGCTGGTCACATTCCTGGCAGGTATGGGGCGGGGCTT...\n",
       "4    EI  GCTCAGCCCCCAGGTCACCCAGGAACTGACGTGAGTGTCCCCATCC..."
      ]
     },
     "execution_count": 5,
     "metadata": {},
     "output_type": "execute_result"
    }
   ],
   "source": [
    "df = df.drop('Name', axis=1)\n",
    "df.head()"
   ]
  },
  {
   "cell_type": "markdown",
   "metadata": {},
   "source": [
    "Mapping EI and IE to 0 and 1 respectively, makes it easier for our classifier later on."
   ]
  },
  {
   "cell_type": "code",
   "execution_count": 6,
   "metadata": {},
   "outputs": [
    {
     "data": {
      "text/html": [
       "<div>\n",
       "<style scoped>\n",
       "    .dataframe tbody tr th:only-of-type {\n",
       "        vertical-align: middle;\n",
       "    }\n",
       "\n",
       "    .dataframe tbody tr th {\n",
       "        vertical-align: top;\n",
       "    }\n",
       "\n",
       "    .dataframe thead th {\n",
       "        text-align: right;\n",
       "    }\n",
       "</style>\n",
       "<table border=\"1\" class=\"dataframe\">\n",
       "  <thead>\n",
       "    <tr style=\"text-align: right;\">\n",
       "      <th></th>\n",
       "      <th>Class</th>\n",
       "      <th>Sequence</th>\n",
       "    </tr>\n",
       "  </thead>\n",
       "  <tbody>\n",
       "    <tr>\n",
       "      <th>0</th>\n",
       "      <td>0</td>\n",
       "      <td>CCAGCTGCATCACAGGAGGCCAGCGAGCAGGTCTGTTCCAAGGGCC...</td>\n",
       "    </tr>\n",
       "    <tr>\n",
       "      <th>1</th>\n",
       "      <td>0</td>\n",
       "      <td>AGACCCGCCGGGAGGCGGAGGACCTGCAGGGTGAGCCCCACCGCCC...</td>\n",
       "    </tr>\n",
       "    <tr>\n",
       "      <th>2</th>\n",
       "      <td>0</td>\n",
       "      <td>GAGGTGAAGGACGTCCTTCCCCAGGAGCCGGTGAGAAGCGCAGTCG...</td>\n",
       "    </tr>\n",
       "    <tr>\n",
       "      <th>3</th>\n",
       "      <td>0</td>\n",
       "      <td>GGGCTGCGTTGCTGGTCACATTCCTGGCAGGTATGGGGCGGGGCTT...</td>\n",
       "    </tr>\n",
       "    <tr>\n",
       "      <th>4</th>\n",
       "      <td>0</td>\n",
       "      <td>GCTCAGCCCCCAGGTCACCCAGGAACTGACGTGAGTGTCCCCATCC...</td>\n",
       "    </tr>\n",
       "  </tbody>\n",
       "</table>\n",
       "</div>"
      ],
      "text/plain": [
       "   Class                                           Sequence\n",
       "0      0  CCAGCTGCATCACAGGAGGCCAGCGAGCAGGTCTGTTCCAAGGGCC...\n",
       "1      0  AGACCCGCCGGGAGGCGGAGGACCTGCAGGGTGAGCCCCACCGCCC...\n",
       "2      0  GAGGTGAAGGACGTCCTTCCCCAGGAGCCGGTGAGAAGCGCAGTCG...\n",
       "3      0  GGGCTGCGTTGCTGGTCACATTCCTGGCAGGTATGGGGCGGGGCTT...\n",
       "4      0  GCTCAGCCCCCAGGTCACCCAGGAACTGACGTGAGTGTCCCCATCC..."
      ]
     },
     "execution_count": 6,
     "metadata": {},
     "output_type": "execute_result"
    },
    {
     "data": {
      "text/html": [
       "<div>\n",
       "<style scoped>\n",
       "    .dataframe tbody tr th:only-of-type {\n",
       "        vertical-align: middle;\n",
       "    }\n",
       "\n",
       "    .dataframe tbody tr th {\n",
       "        vertical-align: top;\n",
       "    }\n",
       "\n",
       "    .dataframe thead th {\n",
       "        text-align: right;\n",
       "    }\n",
       "</style>\n",
       "<table border=\"1\" class=\"dataframe\">\n",
       "  <thead>\n",
       "    <tr style=\"text-align: right;\">\n",
       "      <th></th>\n",
       "      <th>Class</th>\n",
       "      <th>Sequence</th>\n",
       "    </tr>\n",
       "  </thead>\n",
       "  <tbody>\n",
       "    <tr>\n",
       "      <th>1530</th>\n",
       "      <td>1</td>\n",
       "      <td>AGCCTGGGCTGACCCCACGTCTGGCCACAGGCCCGCGTGCTGCCCC...</td>\n",
       "    </tr>\n",
       "    <tr>\n",
       "      <th>1531</th>\n",
       "      <td>1</td>\n",
       "      <td>CTGTCCTGTGGGTTCCTCTCACCCCCTCAGGCTGCTGGTCGTCTAC...</td>\n",
       "    </tr>\n",
       "    <tr>\n",
       "      <th>1532</th>\n",
       "      <td>1</td>\n",
       "      <td>ATGTTTAAACCTCGCGTTTCCTCCCCGCAGCTCTTGGGCAATGTGC...</td>\n",
       "    </tr>\n",
       "    <tr>\n",
       "      <th>1533</th>\n",
       "      <td>1</td>\n",
       "      <td>CTGTCCTGTGGGTTCCTCTCACCCTCTCAGGTTGCTGGTCGTCTAC...</td>\n",
       "    </tr>\n",
       "    <tr>\n",
       "      <th>1534</th>\n",
       "      <td>1</td>\n",
       "      <td>CATATGTATCTTTTTACCTTTTCCCAACAGCTCCTGGGCAACGTGC...</td>\n",
       "    </tr>\n",
       "  </tbody>\n",
       "</table>\n",
       "</div>"
      ],
      "text/plain": [
       "      Class                                           Sequence\n",
       "1530      1  AGCCTGGGCTGACCCCACGTCTGGCCACAGGCCCGCGTGCTGCCCC...\n",
       "1531      1  CTGTCCTGTGGGTTCCTCTCACCCCCTCAGGCTGCTGGTCGTCTAC...\n",
       "1532      1  ATGTTTAAACCTCGCGTTTCCTCCCCGCAGCTCTTGGGCAATGTGC...\n",
       "1533      1  CTGTCCTGTGGGTTCCTCTCACCCTCTCAGGTTGCTGGTCGTCTAC...\n",
       "1534      1  CATATGTATCTTTTTACCTTTTCCCAACAGCTCCTGGGCAACGTGC..."
      ]
     },
     "execution_count": 6,
     "metadata": {},
     "output_type": "execute_result"
    }
   ],
   "source": [
    "df['Class'] = df['Class'].map({'EI': 0, 'IE': 1})\n",
    "df.head()\n",
    "df.tail()"
   ]
  },
  {
   "cell_type": "markdown",
   "metadata": {},
   "source": [
    "It is necessary to encode our nucleotides into numbers so their pattern and ordering can be analyzed. The bases will be encoded into 1, 2, 3, and 4 in alphabetical order. The ambiguous nucleotides, N, D, S, and R will be pseudorandomly chosen, based on the possible nucleotides it could be."
   ]
  },
  {
   "cell_type": "code",
   "execution_count": 7,
   "metadata": {},
   "outputs": [
    {
     "data": {
      "text/html": [
       "<div>\n",
       "<style scoped>\n",
       "    .dataframe tbody tr th:only-of-type {\n",
       "        vertical-align: middle;\n",
       "    }\n",
       "\n",
       "    .dataframe tbody tr th {\n",
       "        vertical-align: top;\n",
       "    }\n",
       "\n",
       "    .dataframe thead th {\n",
       "        text-align: right;\n",
       "    }\n",
       "</style>\n",
       "<table border=\"1\" class=\"dataframe\">\n",
       "  <thead>\n",
       "    <tr style=\"text-align: right;\">\n",
       "      <th></th>\n",
       "      <th>Class</th>\n",
       "      <th>Sequence</th>\n",
       "    </tr>\n",
       "  </thead>\n",
       "  <tbody>\n",
       "    <tr>\n",
       "      <th>0</th>\n",
       "      <td>0</td>\n",
       "      <td>2213243214212133133221323132133424344221133322...</td>\n",
       "    </tr>\n",
       "    <tr>\n",
       "      <th>1</th>\n",
       "      <td>0</td>\n",
       "      <td>1312223223331332331331224321333431322221223222...</td>\n",
       "    </tr>\n",
       "    <tr>\n",
       "      <th>2</th>\n",
       "      <td>0</td>\n",
       "      <td>3133431133123422442222133132233431311323213423...</td>\n",
       "    </tr>\n",
       "    <tr>\n",
       "      <th>3</th>\n",
       "      <td>0</td>\n",
       "      <td>3332432344324334212144224332133414333323333244...</td>\n",
       "    </tr>\n",
       "    <tr>\n",
       "      <th>4</th>\n",
       "      <td>0</td>\n",
       "      <td>3242132222213342122213311243123431343422221422...</td>\n",
       "    </tr>\n",
       "  </tbody>\n",
       "</table>\n",
       "</div>"
      ],
      "text/plain": [
       "   Class                                           Sequence\n",
       "0      0  2213243214212133133221323132133424344221133322...\n",
       "1      0  1312223223331332331331224321333431322221223222...\n",
       "2      0  3133431133123422442222133132233431311323213423...\n",
       "3      0  3332432344324334212144224332133414333323333244...\n",
       "4      0  3242132222213342122213311243123431343422221422..."
      ]
     },
     "execution_count": 7,
     "metadata": {},
     "output_type": "execute_result"
    }
   ],
   "source": [
    "def translateSequence(sequence):\n",
    "    baseDict = {'A':'1', 'C':'2', 'G':'3', 'T':'4', 'N':choice(['1', '2', '3', '4']),\n",
    "               'D':choice(['1', '3', '4']), 'S':choice(['2', '3']), 'R':choice(['1', '3'])}\n",
    "    newSequence = ''\n",
    "    for base in sequence:\n",
    "        newSequence += baseDict[base] \n",
    "    return newSequence\n",
    "\n",
    "df['Sequence'] = [translateSequence(sequence) for sequence in df['Sequence']]\n",
    "df.head()"
   ]
  },
  {
   "cell_type": "markdown",
   "metadata": {},
   "source": [
    "Finally, we will separate each columns into their own individual Numpy arrays. Note that each sequence of numbers is being split, forming a matrix. Each row in this matrix will contain a sequence that has been encoded into numbers."
   ]
  },
  {
   "cell_type": "code",
   "execution_count": 8,
   "metadata": {},
   "outputs": [
    {
     "data": {
      "text/plain": [
       "array([0, 0, 0, ..., 1, 1, 1])"
      ]
     },
     "execution_count": 8,
     "metadata": {},
     "output_type": "execute_result"
    },
    {
     "data": {
      "text/plain": [
       "(1534,)"
      ]
     },
     "execution_count": 8,
     "metadata": {},
     "output_type": "execute_result"
    },
    {
     "data": {
      "text/plain": [
       "array([[2, 2, 1, ..., 2, 4, 3],\n",
       "       [1, 3, 1, ..., 2, 3, 2],\n",
       "       [3, 1, 3, ..., 1, 4, 3],\n",
       "       ...,\n",
       "       [1, 4, 3, ..., 2, 4, 3],\n",
       "       [2, 4, 3, ..., 3, 1, 3],\n",
       "       [2, 1, 4, ..., 2, 4, 3]])"
      ]
     },
     "execution_count": 8,
     "metadata": {},
     "output_type": "execute_result"
    },
    {
     "data": {
      "text/plain": [
       "(1534, 60)"
      ]
     },
     "execution_count": 8,
     "metadata": {},
     "output_type": "execute_result"
    }
   ],
   "source": [
    "y = np.asarray(df['Class'])\n",
    "y\n",
    "np.shape(y)\n",
    "X = np.asarray([list(map(int, sequence)) for sequence in df['Sequence']])\n",
    "X\n",
    "np.shape(X)"
   ]
  },
  {
   "cell_type": "markdown",
   "metadata": {},
   "source": [
    "# Dynamic Time Warping"
   ]
  },
  {
   "cell_type": "markdown",
   "metadata": {},
   "source": [
    "Now we're ready for the dynamic time warping procedure. We iterate through all sequences, taking the euclidean distance and calculating the dissimilarity score:"
   ]
  },
  {
   "cell_type": "markdown",
   "metadata": {},
   "source": [
    "NOTE: This procedure took approximately 10 hours to run on my machine. Using my pre-generated dissimilarity matrix is preferable."
   ]
  },
  {
   "cell_type": "code",
   "execution_count": 9,
   "metadata": {},
   "outputs": [],
   "source": [
    "if os.path.exists(\"matrix.csv\"):\n",
    "    dissimMatrix = np.asarray(pd.read_csv(\"matrix.csv\", index_col=0))\n",
    "else:\n",
    "    dissimMatrix = []\n",
    "    for i, seq1 in enumerate(X):\n",
    "        dissimMatrix.append([])\n",
    "        for seq2 in X:\n",
    "            euclideanDist = lambda seq1, seq2: np.abs(seq1 - seq2)\n",
    "            warpScore = dtw(seq1, seq2, dist=euclideanDist)\n",
    "            dissimMatrix[i].append(warpScore[0])\n",
    "    pd.DataFrame(data=dissimMatrix).to_csv(\"matrix.csv\")"
   ]
  },
  {
   "cell_type": "markdown",
   "metadata": {},
   "source": [
    "# PCA"
   ]
  },
  {
   "cell_type": "markdown",
   "metadata": {},
   "source": [
    "Principal Component Analysis allows us to reduce the dimensionality of this high dimensional data-set. This allows us to plot the data in 2 or 3 dimensions."
   ]
  },
  {
   "cell_type": "code",
   "execution_count": 10,
   "metadata": {},
   "outputs": [],
   "source": [
    "reducedMatrix = PCA(n_components=2).fit_transform(dissimMatrix)"
   ]
  },
  {
   "cell_type": "code",
   "execution_count": 11,
   "metadata": {},
   "outputs": [
    {
     "data": {
      "text/plain": [
       "<Figure size 1440x720 with 0 Axes>"
      ]
     },
     "execution_count": 11,
     "metadata": {},
     "output_type": "execute_result"
    },
    {
     "data": {
      "text/plain": [
       "<matplotlib.collections.PathCollection at 0x7f0630badcf8>"
      ]
     },
     "execution_count": 11,
     "metadata": {},
     "output_type": "execute_result"
    },
    {
     "data": {
      "image/png": "[encoded data removed]",
      "text/plain": [
       "<Figure size 1440x720 with 1 Axes>"
      ]
     },
     "metadata": {
      "needs_background": "light"
     },
     "output_type": "display_data"
    }
   ],
   "source": [
    "plt.figure(figsize=(20,10))\n",
    "plt.scatter(reducedMatrix[:, 0], reducedMatrix[:, 1], marker='.')\n",
    "plt.show()"
   ]
  },
  {
   "cell_type": "markdown",
   "metadata": {},
   "source": [
    "# K Nearest Neighbors"
   ]
  },
  {
   "cell_type": "markdown",
   "metadata": {},
   "source": [
    "Finally, our model is ready to be validated/tested. First, we need to split the dataset, using Stratified K-Folds."
   ]
  },
  {
   "cell_type": "code",
   "execution_count": 12,
   "metadata": {},
   "outputs": [],
   "source": [
    "def createMatrix(values, train_index, dissimMatrix):\n",
    "    matrix = []\n",
    "    for c, i in enumerate(values):\n",
    "        matrix.append([])\n",
    "        for j in train_index:\n",
    "            matrix[c].append(dissimMatrix[i][j])\n",
    "    return matrix\n",
    "\n",
    "def splitData(X, y, dissimMatrix):\n",
    "    skf = StratifiedKFold(n_splits=5)\n",
    "    X_train = []\n",
    "    X_test = []\n",
    "    y_train = []\n",
    "    y_test = []\n",
    "    for train_index, test_index in skf.split(X, y):\n",
    "        X_train.append(createMatrix(train_index, train_index, dissimMatrix))\n",
    "        X_test.append(createMatrix(test_index, train_index, dissimMatrix))\n",
    "        y_train.append(y[train_index])\n",
    "        y_test.append(y[test_index])\n",
    "    return X_train, X_test, y_train, y_test\n",
    "\n",
    "X_train, X_test, y_train, y_test = splitData(X, y, dissimMatrix)"
   ]
  },
  {
   "cell_type": "markdown",
   "metadata": {},
   "source": [
    "Now, we make the predictions:"
   ]
  },
  {
   "cell_type": "code",
   "execution_count": 13,
   "metadata": {},
   "outputs": [],
   "source": [
    "def predictClass(X_train, X_test, y_train, y_test, k):\n",
    "    y_pred = []\n",
    "    metric = {'acc':[], 'conf':[], 'prec':[], 'recall':[], 'f1':[]}\n",
    "    model = KNeighborsClassifier(n_neighbors=k, metric='precomputed')\n",
    "    for i, fold in enumerate(X_test):\n",
    "        y_pred.append([])\n",
    "        model = model.fit(X_train[i], y_train[i])\n",
    "        y_pred[i] = model.predict(fold)\n",
    "        pair = y_test[i], y_pred[i]\n",
    "        metric['acc'].append(accuracy_score(*pair))\n",
    "        metric['conf'].append(confusion_matrix(*pair).ravel())\n",
    "        metric['prec'].append(precision_score(*pair))\n",
    "        metric['recall'].append(recall_score(*pair))\n",
    "        metric['f1'].append(f1_score(*pair))\n",
    "    return metric\n",
    "kMin, kMax = 1, 3\n",
    "kArr = list(range(kMin, kMax + 1)) + [11, 14]\n",
    "results = np.asarray([predictClass(X_train, X_test, y_train, y_test, k) for k in kArr])"
   ]
  },
  {
   "cell_type": "markdown",
   "metadata": {},
   "source": [
    "And output the results:"
   ]
  },
  {
   "cell_type": "code",
   "execution_count": 14,
   "metadata": {},
   "outputs": [
    {
     "name": "stdout",
     "output_type": "stream",
     "text": [
      "\t\t\t1-NN\n"
     ]
    },
    {
     "data": {
      "text/html": [
       "<div>\n",
       "<style scoped>\n",
       "    .dataframe tbody tr th:only-of-type {\n",
       "        vertical-align: middle;\n",
       "    }\n",
       "\n",
       "    .dataframe tbody tr th {\n",
       "        vertical-align: top;\n",
       "    }\n",
       "\n",
       "    .dataframe thead th {\n",
       "        text-align: right;\n",
       "    }\n",
       "</style>\n",
       "<table border=\"1\" class=\"dataframe\">\n",
       "  <thead>\n",
       "    <tr style=\"text-align: right;\">\n",
       "      <th></th>\n",
       "      <th>Accuracy</th>\n",
       "      <th>Precision</th>\n",
       "      <th>Recall</th>\n",
       "      <th>F1</th>\n",
       "      <th>TN</th>\n",
       "      <th>FP</th>\n",
       "      <th>FN</th>\n",
       "      <th>TP</th>\n",
       "    </tr>\n",
       "  </thead>\n",
       "  <tbody>\n",
       "    <tr>\n",
       "      <th>1</th>\n",
       "      <td>0.821429</td>\n",
       "      <td>0.832215</td>\n",
       "      <td>0.805195</td>\n",
       "      <td>0.818482</td>\n",
       "      <td>129.0</td>\n",
       "      <td>25.0</td>\n",
       "      <td>30.0</td>\n",
       "      <td>124.0</td>\n",
       "    </tr>\n",
       "    <tr>\n",
       "      <th>2</th>\n",
       "      <td>0.798046</td>\n",
       "      <td>0.828571</td>\n",
       "      <td>0.753247</td>\n",
       "      <td>0.789116</td>\n",
       "      <td>129.0</td>\n",
       "      <td>24.0</td>\n",
       "      <td>38.0</td>\n",
       "      <td>116.0</td>\n",
       "    </tr>\n",
       "    <tr>\n",
       "      <th>3</th>\n",
       "      <td>0.814332</td>\n",
       "      <td>0.848921</td>\n",
       "      <td>0.766234</td>\n",
       "      <td>0.805461</td>\n",
       "      <td>132.0</td>\n",
       "      <td>21.0</td>\n",
       "      <td>36.0</td>\n",
       "      <td>118.0</td>\n",
       "    </tr>\n",
       "    <tr>\n",
       "      <th>4</th>\n",
       "      <td>0.77451</td>\n",
       "      <td>0.823077</td>\n",
       "      <td>0.699346</td>\n",
       "      <td>0.756184</td>\n",
       "      <td>130.0</td>\n",
       "      <td>23.0</td>\n",
       "      <td>46.0</td>\n",
       "      <td>107.0</td>\n",
       "    </tr>\n",
       "    <tr>\n",
       "      <th>5</th>\n",
       "      <td>0.833333</td>\n",
       "      <td>0.849315</td>\n",
       "      <td>0.810458</td>\n",
       "      <td>0.829431</td>\n",
       "      <td>131.0</td>\n",
       "      <td>22.0</td>\n",
       "      <td>29.0</td>\n",
       "      <td>124.0</td>\n",
       "    </tr>\n",
       "    <tr>\n",
       "      <th>Average</th>\n",
       "      <td>0.80833</td>\n",
       "      <td>0.83642</td>\n",
       "      <td>0.766896</td>\n",
       "      <td>0.799735</td>\n",
       "      <td>NaN</td>\n",
       "      <td>NaN</td>\n",
       "      <td>NaN</td>\n",
       "      <td>NaN</td>\n",
       "    </tr>\n",
       "  </tbody>\n",
       "</table>\n",
       "</div>"
      ],
      "text/plain": [
       "         Accuracy Precision    Recall        F1     TN    FP    FN     TP\n",
       "1        0.821429  0.832215  0.805195  0.818482  129.0  25.0  30.0  124.0\n",
       "2        0.798046  0.828571  0.753247  0.789116  129.0  24.0  38.0  116.0\n",
       "3        0.814332  0.848921  0.766234  0.805461  132.0  21.0  36.0  118.0\n",
       "4         0.77451  0.823077  0.699346  0.756184  130.0  23.0  46.0  107.0\n",
       "5        0.833333  0.849315  0.810458  0.829431  131.0  22.0  29.0  124.0\n",
       "Average   0.80833   0.83642  0.766896  0.799735    NaN   NaN   NaN    NaN"
      ]
     },
     "execution_count": 14,
     "metadata": {},
     "output_type": "execute_result"
    },
    {
     "name": "stdout",
     "output_type": "stream",
     "text": [
      "\n",
      "\t\t\t2-NN\n"
     ]
    },
    {
     "data": {
      "text/html": [
       "<div>\n",
       "<style scoped>\n",
       "    .dataframe tbody tr th:only-of-type {\n",
       "        vertical-align: middle;\n",
       "    }\n",
       "\n",
       "    .dataframe tbody tr th {\n",
       "        vertical-align: top;\n",
       "    }\n",
       "\n",
       "    .dataframe thead th {\n",
       "        text-align: right;\n",
       "    }\n",
       "</style>\n",
       "<table border=\"1\" class=\"dataframe\">\n",
       "  <thead>\n",
       "    <tr style=\"text-align: right;\">\n",
       "      <th></th>\n",
       "      <th>Accuracy</th>\n",
       "      <th>Precision</th>\n",
       "      <th>Recall</th>\n",
       "      <th>F1</th>\n",
       "      <th>TN</th>\n",
       "      <th>FP</th>\n",
       "      <th>FN</th>\n",
       "      <th>TP</th>\n",
       "    </tr>\n",
       "  </thead>\n",
       "  <tbody>\n",
       "    <tr>\n",
       "      <th>1</th>\n",
       "      <td>0.798701</td>\n",
       "      <td>0.933962</td>\n",
       "      <td>0.642857</td>\n",
       "      <td>0.761538</td>\n",
       "      <td>147.0</td>\n",
       "      <td>7.0</td>\n",
       "      <td>55.0</td>\n",
       "      <td>99.0</td>\n",
       "    </tr>\n",
       "    <tr>\n",
       "      <th>2</th>\n",
       "      <td>0.775244</td>\n",
       "      <td>0.882883</td>\n",
       "      <td>0.636364</td>\n",
       "      <td>0.739623</td>\n",
       "      <td>140.0</td>\n",
       "      <td>13.0</td>\n",
       "      <td>56.0</td>\n",
       "      <td>98.0</td>\n",
       "    </tr>\n",
       "    <tr>\n",
       "      <th>3</th>\n",
       "      <td>0.781759</td>\n",
       "      <td>0.878261</td>\n",
       "      <td>0.655844</td>\n",
       "      <td>0.750929</td>\n",
       "      <td>139.0</td>\n",
       "      <td>14.0</td>\n",
       "      <td>53.0</td>\n",
       "      <td>101.0</td>\n",
       "    </tr>\n",
       "    <tr>\n",
       "      <th>4</th>\n",
       "      <td>0.748366</td>\n",
       "      <td>0.931818</td>\n",
       "      <td>0.535948</td>\n",
       "      <td>0.680498</td>\n",
       "      <td>147.0</td>\n",
       "      <td>6.0</td>\n",
       "      <td>71.0</td>\n",
       "      <td>82.0</td>\n",
       "    </tr>\n",
       "    <tr>\n",
       "      <th>5</th>\n",
       "      <td>0.830065</td>\n",
       "      <td>0.917355</td>\n",
       "      <td>0.72549</td>\n",
       "      <td>0.810219</td>\n",
       "      <td>143.0</td>\n",
       "      <td>10.0</td>\n",
       "      <td>42.0</td>\n",
       "      <td>111.0</td>\n",
       "    </tr>\n",
       "    <tr>\n",
       "      <th>Average</th>\n",
       "      <td>0.786827</td>\n",
       "      <td>0.908856</td>\n",
       "      <td>0.639301</td>\n",
       "      <td>0.748561</td>\n",
       "      <td>NaN</td>\n",
       "      <td>NaN</td>\n",
       "      <td>NaN</td>\n",
       "      <td>NaN</td>\n",
       "    </tr>\n",
       "  </tbody>\n",
       "</table>\n",
       "</div>"
      ],
      "text/plain": [
       "         Accuracy Precision    Recall        F1     TN    FP    FN     TP\n",
       "1        0.798701  0.933962  0.642857  0.761538  147.0   7.0  55.0   99.0\n",
       "2        0.775244  0.882883  0.636364  0.739623  140.0  13.0  56.0   98.0\n",
       "3        0.781759  0.878261  0.655844  0.750929  139.0  14.0  53.0  101.0\n",
       "4        0.748366  0.931818  0.535948  0.680498  147.0   6.0  71.0   82.0\n",
       "5        0.830065  0.917355   0.72549  0.810219  143.0  10.0  42.0  111.0\n",
       "Average  0.786827  0.908856  0.639301  0.748561    NaN   NaN   NaN    NaN"
      ]
     },
     "execution_count": 14,
     "metadata": {},
     "output_type": "execute_result"
    },
    {
     "name": "stdout",
     "output_type": "stream",
     "text": [
      "\n",
      "\t\t\t3-NN\n"
     ]
    },
    {
     "data": {
      "text/html": [
       "<div>\n",
       "<style scoped>\n",
       "    .dataframe tbody tr th:only-of-type {\n",
       "        vertical-align: middle;\n",
       "    }\n",
       "\n",
       "    .dataframe tbody tr th {\n",
       "        vertical-align: top;\n",
       "    }\n",
       "\n",
       "    .dataframe thead th {\n",
       "        text-align: right;\n",
       "    }\n",
       "</style>\n",
       "<table border=\"1\" class=\"dataframe\">\n",
       "  <thead>\n",
       "    <tr style=\"text-align: right;\">\n",
       "      <th></th>\n",
       "      <th>Accuracy</th>\n",
       "      <th>Precision</th>\n",
       "      <th>Recall</th>\n",
       "      <th>F1</th>\n",
       "      <th>TN</th>\n",
       "      <th>FP</th>\n",
       "      <th>FN</th>\n",
       "      <th>TP</th>\n",
       "    </tr>\n",
       "  </thead>\n",
       "  <tbody>\n",
       "    <tr>\n",
       "      <th>1</th>\n",
       "      <td>0.847403</td>\n",
       "      <td>0.902256</td>\n",
       "      <td>0.779221</td>\n",
       "      <td>0.836237</td>\n",
       "      <td>141.0</td>\n",
       "      <td>13.0</td>\n",
       "      <td>34.0</td>\n",
       "      <td>120.0</td>\n",
       "    </tr>\n",
       "    <tr>\n",
       "      <th>2</th>\n",
       "      <td>0.814332</td>\n",
       "      <td>0.843972</td>\n",
       "      <td>0.772727</td>\n",
       "      <td>0.80678</td>\n",
       "      <td>131.0</td>\n",
       "      <td>22.0</td>\n",
       "      <td>35.0</td>\n",
       "      <td>119.0</td>\n",
       "    </tr>\n",
       "    <tr>\n",
       "      <th>3</th>\n",
       "      <td>0.85342</td>\n",
       "      <td>0.856209</td>\n",
       "      <td>0.850649</td>\n",
       "      <td>0.85342</td>\n",
       "      <td>131.0</td>\n",
       "      <td>22.0</td>\n",
       "      <td>23.0</td>\n",
       "      <td>131.0</td>\n",
       "    </tr>\n",
       "    <tr>\n",
       "      <th>4</th>\n",
       "      <td>0.820261</td>\n",
       "      <td>0.860294</td>\n",
       "      <td>0.764706</td>\n",
       "      <td>0.809689</td>\n",
       "      <td>134.0</td>\n",
       "      <td>19.0</td>\n",
       "      <td>36.0</td>\n",
       "      <td>117.0</td>\n",
       "    </tr>\n",
       "    <tr>\n",
       "      <th>5</th>\n",
       "      <td>0.866013</td>\n",
       "      <td>0.873333</td>\n",
       "      <td>0.856209</td>\n",
       "      <td>0.864686</td>\n",
       "      <td>134.0</td>\n",
       "      <td>19.0</td>\n",
       "      <td>22.0</td>\n",
       "      <td>131.0</td>\n",
       "    </tr>\n",
       "    <tr>\n",
       "      <th>Average</th>\n",
       "      <td>0.840286</td>\n",
       "      <td>0.867213</td>\n",
       "      <td>0.804702</td>\n",
       "      <td>0.834162</td>\n",
       "      <td>NaN</td>\n",
       "      <td>NaN</td>\n",
       "      <td>NaN</td>\n",
       "      <td>NaN</td>\n",
       "    </tr>\n",
       "  </tbody>\n",
       "</table>\n",
       "</div>"
      ],
      "text/plain": [
       "         Accuracy Precision    Recall        F1     TN    FP    FN     TP\n",
       "1        0.847403  0.902256  0.779221  0.836237  141.0  13.0  34.0  120.0\n",
       "2        0.814332  0.843972  0.772727   0.80678  131.0  22.0  35.0  119.0\n",
       "3         0.85342  0.856209  0.850649   0.85342  131.0  22.0  23.0  131.0\n",
       "4        0.820261  0.860294  0.764706  0.809689  134.0  19.0  36.0  117.0\n",
       "5        0.866013  0.873333  0.856209  0.864686  134.0  19.0  22.0  131.0\n",
       "Average  0.840286  0.867213  0.804702  0.834162    NaN   NaN   NaN    NaN"
      ]
     },
     "execution_count": 14,
     "metadata": {},
     "output_type": "execute_result"
    },
    {
     "name": "stdout",
     "output_type": "stream",
     "text": [
      "\n",
      "\t\t\t11-NN\n"
     ]
    },
    {
     "data": {
      "text/html": [
       "<div>\n",
       "<style scoped>\n",
       "    .dataframe tbody tr th:only-of-type {\n",
       "        vertical-align: middle;\n",
       "    }\n",
       "\n",
       "    .dataframe tbody tr th {\n",
       "        vertical-align: top;\n",
       "    }\n",
       "\n",
       "    .dataframe thead th {\n",
       "        text-align: right;\n",
       "    }\n",
       "</style>\n",
       "<table border=\"1\" class=\"dataframe\">\n",
       "  <thead>\n",
       "    <tr style=\"text-align: right;\">\n",
       "      <th></th>\n",
       "      <th>Accuracy</th>\n",
       "      <th>Precision</th>\n",
       "      <th>Recall</th>\n",
       "      <th>F1</th>\n",
       "      <th>TN</th>\n",
       "      <th>FP</th>\n",
       "      <th>FN</th>\n",
       "      <th>TP</th>\n",
       "    </tr>\n",
       "  </thead>\n",
       "  <tbody>\n",
       "    <tr>\n",
       "      <th>1</th>\n",
       "      <td>0.896104</td>\n",
       "      <td>0.886076</td>\n",
       "      <td>0.909091</td>\n",
       "      <td>0.897436</td>\n",
       "      <td>136.0</td>\n",
       "      <td>18.0</td>\n",
       "      <td>14.0</td>\n",
       "      <td>140.0</td>\n",
       "    </tr>\n",
       "    <tr>\n",
       "      <th>2</th>\n",
       "      <td>0.863192</td>\n",
       "      <td>0.85</td>\n",
       "      <td>0.883117</td>\n",
       "      <td>0.866242</td>\n",
       "      <td>129.0</td>\n",
       "      <td>24.0</td>\n",
       "      <td>18.0</td>\n",
       "      <td>136.0</td>\n",
       "    </tr>\n",
       "    <tr>\n",
       "      <th>3</th>\n",
       "      <td>0.908795</td>\n",
       "      <td>0.879518</td>\n",
       "      <td>0.948052</td>\n",
       "      <td>0.9125</td>\n",
       "      <td>133.0</td>\n",
       "      <td>20.0</td>\n",
       "      <td>8.0</td>\n",
       "      <td>146.0</td>\n",
       "    </tr>\n",
       "    <tr>\n",
       "      <th>4</th>\n",
       "      <td>0.843137</td>\n",
       "      <td>0.822086</td>\n",
       "      <td>0.875817</td>\n",
       "      <td>0.848101</td>\n",
       "      <td>124.0</td>\n",
       "      <td>29.0</td>\n",
       "      <td>19.0</td>\n",
       "      <td>134.0</td>\n",
       "    </tr>\n",
       "    <tr>\n",
       "      <th>5</th>\n",
       "      <td>0.895425</td>\n",
       "      <td>0.853801</td>\n",
       "      <td>0.954248</td>\n",
       "      <td>0.901235</td>\n",
       "      <td>128.0</td>\n",
       "      <td>25.0</td>\n",
       "      <td>7.0</td>\n",
       "      <td>146.0</td>\n",
       "    </tr>\n",
       "    <tr>\n",
       "      <th>Average</th>\n",
       "      <td>0.881331</td>\n",
       "      <td>0.858296</td>\n",
       "      <td>0.914065</td>\n",
       "      <td>0.885103</td>\n",
       "      <td>NaN</td>\n",
       "      <td>NaN</td>\n",
       "      <td>NaN</td>\n",
       "      <td>NaN</td>\n",
       "    </tr>\n",
       "  </tbody>\n",
       "</table>\n",
       "</div>"
      ],
      "text/plain": [
       "         Accuracy Precision    Recall        F1     TN    FP    FN     TP\n",
       "1        0.896104  0.886076  0.909091  0.897436  136.0  18.0  14.0  140.0\n",
       "2        0.863192      0.85  0.883117  0.866242  129.0  24.0  18.0  136.0\n",
       "3        0.908795  0.879518  0.948052    0.9125  133.0  20.0   8.0  146.0\n",
       "4        0.843137  0.822086  0.875817  0.848101  124.0  29.0  19.0  134.0\n",
       "5        0.895425  0.853801  0.954248  0.901235  128.0  25.0   7.0  146.0\n",
       "Average  0.881331  0.858296  0.914065  0.885103    NaN   NaN   NaN    NaN"
      ]
     },
     "execution_count": 14,
     "metadata": {},
     "output_type": "execute_result"
    },
    {
     "name": "stdout",
     "output_type": "stream",
     "text": [
      "\n",
      "\t\t\t14-NN\n"
     ]
    },
    {
     "data": {
      "text/html": [
       "<div>\n",
       "<style scoped>\n",
       "    .dataframe tbody tr th:only-of-type {\n",
       "        vertical-align: middle;\n",
       "    }\n",
       "\n",
       "    .dataframe tbody tr th {\n",
       "        vertical-align: top;\n",
       "    }\n",
       "\n",
       "    .dataframe thead th {\n",
       "        text-align: right;\n",
       "    }\n",
       "</style>\n",
       "<table border=\"1\" class=\"dataframe\">\n",
       "  <thead>\n",
       "    <tr style=\"text-align: right;\">\n",
       "      <th></th>\n",
       "      <th>Accuracy</th>\n",
       "      <th>Precision</th>\n",
       "      <th>Recall</th>\n",
       "      <th>F1</th>\n",
       "      <th>TN</th>\n",
       "      <th>FP</th>\n",
       "      <th>FN</th>\n",
       "      <th>TP</th>\n",
       "    </tr>\n",
       "  </thead>\n",
       "  <tbody>\n",
       "    <tr>\n",
       "      <th>1</th>\n",
       "      <td>0.892857</td>\n",
       "      <td>0.900662</td>\n",
       "      <td>0.883117</td>\n",
       "      <td>0.891803</td>\n",
       "      <td>139.0</td>\n",
       "      <td>15.0</td>\n",
       "      <td>18.0</td>\n",
       "      <td>136.0</td>\n",
       "    </tr>\n",
       "    <tr>\n",
       "      <th>2</th>\n",
       "      <td>0.869707</td>\n",
       "      <td>0.865385</td>\n",
       "      <td>0.876623</td>\n",
       "      <td>0.870968</td>\n",
       "      <td>132.0</td>\n",
       "      <td>21.0</td>\n",
       "      <td>19.0</td>\n",
       "      <td>135.0</td>\n",
       "    </tr>\n",
       "    <tr>\n",
       "      <th>3</th>\n",
       "      <td>0.908795</td>\n",
       "      <td>0.884146</td>\n",
       "      <td>0.941558</td>\n",
       "      <td>0.91195</td>\n",
       "      <td>134.0</td>\n",
       "      <td>19.0</td>\n",
       "      <td>9.0</td>\n",
       "      <td>145.0</td>\n",
       "    </tr>\n",
       "    <tr>\n",
       "      <th>4</th>\n",
       "      <td>0.859477</td>\n",
       "      <td>0.857143</td>\n",
       "      <td>0.862745</td>\n",
       "      <td>0.859935</td>\n",
       "      <td>131.0</td>\n",
       "      <td>22.0</td>\n",
       "      <td>21.0</td>\n",
       "      <td>132.0</td>\n",
       "    </tr>\n",
       "    <tr>\n",
       "      <th>5</th>\n",
       "      <td>0.895425</td>\n",
       "      <td>0.866667</td>\n",
       "      <td>0.934641</td>\n",
       "      <td>0.899371</td>\n",
       "      <td>131.0</td>\n",
       "      <td>22.0</td>\n",
       "      <td>10.0</td>\n",
       "      <td>143.0</td>\n",
       "    </tr>\n",
       "    <tr>\n",
       "      <th>Average</th>\n",
       "      <td>0.885252</td>\n",
       "      <td>0.874801</td>\n",
       "      <td>0.899737</td>\n",
       "      <td>0.886805</td>\n",
       "      <td>NaN</td>\n",
       "      <td>NaN</td>\n",
       "      <td>NaN</td>\n",
       "      <td>NaN</td>\n",
       "    </tr>\n",
       "  </tbody>\n",
       "</table>\n",
       "</div>"
      ],
      "text/plain": [
       "         Accuracy Precision    Recall        F1     TN    FP    FN     TP\n",
       "1        0.892857  0.900662  0.883117  0.891803  139.0  15.0  18.0  136.0\n",
       "2        0.869707  0.865385  0.876623  0.870968  132.0  21.0  19.0  135.0\n",
       "3        0.908795  0.884146  0.941558   0.91195  134.0  19.0   9.0  145.0\n",
       "4        0.859477  0.857143  0.862745  0.859935  131.0  22.0  21.0  132.0\n",
       "5        0.895425  0.866667  0.934641  0.899371  131.0  22.0  10.0  143.0\n",
       "Average  0.885252  0.874801  0.899737  0.886805    NaN   NaN   NaN    NaN"
      ]
     },
     "execution_count": 14,
     "metadata": {},
     "output_type": "execute_result"
    },
    {
     "name": "stdout",
     "output_type": "stream",
     "text": [
      "\n"
     ]
    }
   ],
   "source": [
    "for i, k in enumerate(results):\n",
    "    table = pd.DataFrame(np.asarray(list(k.values())).T, index=range(1,len(X_test) + 1),\n",
    "                         columns=['Accuracy', 'Confusion Matrix', 'Precision', 'Recall', 'F1'])\n",
    "    table[['TN', 'FP', 'FN', 'TP']] = pd.DataFrame(table['Confusion Matrix'].values.tolist(), index=table.index)\n",
    "    table = table.drop('Confusion Matrix', axis=1)\n",
    "    means = pd.DataFrame(table.iloc[:,0:4].mean(), columns=['Average']).transpose()\n",
    "    table = table.append(means, sort=False)\n",
    "    print('\\t\\t\\t{}-NN'.format(kArr[i]))\n",
    "    table\n",
    "    print()"
   ]
  },
  {
   "cell_type": "markdown",
   "metadata": {},
   "source": [
    "In this context:\n",
    "* A True Negative means that an EI was correctly identified as EI\n",
    "* A False Positive means that an EI was incorrectly identified as IE\n",
    "* A False Negative means that an IE was incorrectly identified as EI\n",
    "* A True Positive means that an IE was correctly identified as IE"
   ]
  }
 ],
 "metadata": {
  "kernelspec": {
   "display_name": "Python [conda env:splice_junction]",
   "language": "python",
   "name": "conda-env-splice_junction-py"
  },
  "language_info": {
   "codemirror_mode": {
    "name": "ipython",
    "version": 3
   },
   "file_extension": ".py",
   "mimetype": "text/x-python",
   "name": "python",
   "nbconvert_exporter": "python",
   "pygments_lexer": "ipython3",
   "version": "3.7.2"
  }
 },
 "nbformat": 4,
 "nbformat_minor": 2
}
